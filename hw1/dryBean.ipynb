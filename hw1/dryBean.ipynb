{
 "cells": [
  {
   "cell_type": "markdown",
   "id": "70b5f1b2",
   "metadata": {},
   "source": [
    "# Simple Implementation of [DryBean](https://archive.ics.uci.edu/ml/datasets/Dry+Bean+Dataset) dataset\n"
   ]
  },
  {
   "cell_type": "code",
   "execution_count": 82,
   "id": "8ad9c555",
   "metadata": {},
   "outputs": [],
   "source": [
    "import numpy as np\n",
    "from matplotlib import pyplot as plt\n",
    "import pandas as pd\n",
    "import datetime \n",
    "\n",
    "\n",
    "dataLen = 13611"
   ]
  },
  {
   "cell_type": "code",
   "execution_count": 83,
   "id": "47024532",
   "metadata": {},
   "outputs": [
    {
     "name": "stdout",
     "output_type": "stream",
     "text": [
      "[2.83950000e+04 6.10291000e+02 2.08178117e+02 1.73888747e+02\n",
      " 1.19719142e+00 5.49812187e-01 2.87150000e+04 1.90141097e+02\n",
      " 7.63922518e-01 9.88855999e-01 9.58027126e-01 9.13357755e-01\n",
      " 7.33150614e-03 3.14728917e-03 8.34222388e-01 9.98723889e-01]\n",
      "SEKER\n"
     ]
    }
   ],
   "source": [
    "def loadxlsx(fileName, dataLen):\n",
    "    \"\"\"\n",
    "    loads a file.xsl into a numpy array\n",
    "    filename: string\n",
    "    dataLen: int\n",
    "    \n",
    "    return: \n",
    "    dataSetInput: n x n numpy ndarray every row represents a stream of input\n",
    "    dataSetClass: n x 1 numpy ndarray\n",
    "\n",
    "    \"\"\"\n",
    "\n",
    "\n",
    "\n",
    "     # Load the xlsx file\n",
    "    excel_data = pd.read_excel(fileName)\n",
    "    # Read the values of the file in the dataframe\n",
    "    df = pd.DataFrame(excel_data)\n",
    "    \n",
    "\n",
    "    data= df.to_numpy()\n",
    "\n",
    "    #data input ---> x\n",
    "    data_in = [row[:-1] for row in data]\n",
    "    dataSetInput = np.array(data_in, dtype=float)\n",
    "\n",
    "    #data classes ---> groud truth\n",
    "    data_class = [row[-1] for row in data]\n",
    "    dataSetClass = np.array(data_class)\n",
    "    \n",
    "    return dataSetInput, dataSetClass\n",
    "\n",
    "\n",
    "\n",
    "dataSetInput,dataSetClass = loadxlsx('dryBean-data/Dry_Bean_Dataset.xlsx', dataLen)\n",
    "print(dataSetInput[0])\n",
    "print(dataSetClass[0])"
   ]
  },
  {
   "cell_type": "markdown",
   "id": "673b5c7b",
   "metadata": {},
   "source": [
    "# Normalize the data"
   ]
  },
  {
   "cell_type": "code",
   "execution_count": 84,
   "id": "d069cbc6",
   "metadata": {},
   "outputs": [
    {
     "name": "stdout",
     "output_type": "stream",
     "text": [
      "mean:  [5.30482845e+04 8.55283459e+02 3.20141867e+02 2.02270714e+02\n",
      " 1.58324198e+00 7.50894929e-01 5.37682002e+04 2.53064220e+02\n",
      " 7.49732787e-01 9.87142844e-01 8.73281831e-01 7.99863682e-01\n",
      " 6.56360851e-03 1.71594733e-03 6.43590181e-01 9.95063312e-01]\n",
      "std:  [2.93230185e+04 2.14281824e+02 8.56910379e+01 4.49684393e+01\n",
      " 2.46669394e-01 9.19983835e-02 2.97738220e+04 5.91749462e+01\n",
      " 4.90845636e-02 4.66020796e-03 5.95177014e-02 6.17111960e-02\n",
      " 1.12795679e-03 5.95852967e-04 9.89925138e-02 4.36629734e-03]\n"
     ]
    },
    {
     "data": {
      "image/png": "[encoded data removed]",
      "text/plain": [
       "<Figure size 432x288 with 1 Axes>"
      ]
     },
     "metadata": {
      "needs_background": "light"
     },
     "output_type": "display_data"
    },
    {
     "data": {
      "image/png": "[encoded data removed]",
      "text/plain": [
       "<Figure size 432x288 with 1 Axes>"
      ]
     },
     "metadata": {
      "needs_background": "light"
     },
     "output_type": "display_data"
    }
   ],
   "source": [
    "def normalizeData(dataSetInput, plot=False):\n",
    "    \"\"\"\n",
    "    subtracting mean and dviding by the std\n",
    "    \n",
    "     dataSetInput: n x n numpy ndarray every row represents a stream of input\n",
    "     plot: bolean weather to show plot or not\n",
    "\n",
    "    \"\"\"\n",
    "\n",
    "    mean = np.mean(dataSetInput, axis=0)\n",
    "    std = np.std(dataSetInput, axis=0)\n",
    "    print ('mean: ', mean)\n",
    "    print ('std: ', std)\n",
    "\n",
    "\n",
    "    if plot: \n",
    "        plt.plot(np.transpose(dataSetInput)[0], np.transpose(dataSetInput)[1], 'bo')\n",
    "        plt.xlabel('x1')\n",
    "        plt.ylabel('x2')\n",
    "        plt.grid(True)\n",
    "        plt.title(\"before normalization\")\n",
    "        plt.show()\n",
    "\n",
    "    # normalizing the data\n",
    "    dataSetInput -= mean\n",
    "    dataSetInput /= std\n",
    "    \n",
    "    if plot:\n",
    "        plt.plot(np.transpose(dataSetInput)[0], np.transpose(dataSetInput)[1], 'bo')\n",
    "        plt.xlabel('x1')\n",
    "        plt.ylabel('x2')\n",
    "        plt.grid(True)\n",
    "        plt.title(\"After normalization\")\n",
    "        plt.show()\n",
    "\n",
    "# test \n",
    "# x = np.array([[1., 2], [3, 4], [5, 6], [7, 8]])\n",
    "# normalizeData(x, True)\n",
    "# print(x)\n",
    "\n",
    "normalizeData(dataSetInput, True) #our data is normalized"
   ]
  },
  {
   "cell_type": "markdown",
   "id": "c1a47121",
   "metadata": {},
   "source": [
    "# generating true ouput"
   ]
  },
  {
   "cell_type": "code",
   "execution_count": 85,
   "id": "a53fb07e",
   "metadata": {},
   "outputs": [
    {
     "name": "stdout",
     "output_type": "stream",
     "text": [
      "[0. 0. 0. 0. 0. 1. 0.]\n"
     ]
    }
   ],
   "source": [
    "def generateOuput(class_l, dataSetClass):\n",
    "    '''\n",
    "    converts class names into vecor\n",
    "    example: \"classX\" => [1, 0, 0, 0]\n",
    "    class_l: list of strings of the name of the classes\n",
    "    dataSetClass: numpy column vector of strings\n",
    "    \n",
    "    returns: a numpy matrix len(dataSetClas) x len(class_l)\n",
    "    '''\n",
    "    \n",
    "    class_d = {}\n",
    "    dataSetOutput = np.zeros((dataSetClass.shape[0], len(class_l)))\n",
    "    \n",
    "    for i in range(len(class_l)):\n",
    "        class_d[class_l[i]] = i\n",
    "        \n",
    "    \n",
    "    for i in range(len(dataSetClass)):\n",
    "        c = dataSetClass[i]\n",
    "        true_i = class_d[c]\n",
    "        dataSetOutput[i][true_i] =1\n",
    "\n",
    "    return dataSetOutput\n",
    "    \n",
    "classL = ['SEKER', 'BARBUNYA', 'BOMBAY', 'CALI', 'HOROZ', 'SIRA', 'DERMASON']\n",
    "dataSetOutput =generateOuput(classL, dataSetClass)\n",
    "print(dataSetOutput[10050])\n",
    "    "
   ]
  },
  {
   "cell_type": "markdown",
   "id": "4749997a",
   "metadata": {},
   "source": [
    "# Adding Bias"
   ]
  },
  {
   "cell_type": "code",
   "execution_count": 86,
   "id": "ad1e9213",
   "metadata": {},
   "outputs": [],
   "source": [
    "dataSetInput = np.append(dataSetInput, np.transpose([ np.ones(dataSetInput.shape[0]) ]), axis=1)\n",
    "# testing \n",
    "# l = [[1, 2], [3, 4]]\n",
    "# l = np.array(l)\n",
    "# one = np.ones(l.shape[0])\n",
    "# out = np.append(l, np.transpose([one]), axis=1)\n",
    "# print(out)"
   ]
  },
  {
   "cell_type": "markdown",
   "id": "863e10f3",
   "metadata": {},
   "source": [
    "# Split in train and test"
   ]
  },
  {
   "cell_type": "code",
   "execution_count": 87,
   "id": "61bddaec",
   "metadata": {},
   "outputs": [
    {
     "name": "stdout",
     "output_type": "stream",
     "text": [
      "(6768, 17)\n",
      "(6843, 17)\n",
      "(6768, 7)\n",
      "(6843, 7)\n"
     ]
    }
   ],
   "source": [
    "# split into train and test\n",
    "rand = np.random.rand(dataLen) \n",
    "\n",
    "#inputs\n",
    "dataSetTestInput = dataSetInput[rand > .5]\n",
    "dataSetInput = dataSetInput[rand <= .5]\n",
    "\n",
    "#output\n",
    "dataSetTestOutput = dataSetOutput[rand > .5]\n",
    "dataSetOutput = dataSetOutput[rand <= .5]\n",
    "\n",
    "print(dataSetTestInput.shape)\n",
    "print(dataSetInput.shape)\n",
    "\n",
    "print(dataSetTestOutput.shape)\n",
    "print(dataSetOutput.shape)\n",
    "\n",
    "\n"
   ]
  },
  {
   "cell_type": "markdown",
   "id": "a0cb1b80",
   "metadata": {},
   "source": [
    "# Activation Functions"
   ]
  },
  {
   "cell_type": "code",
   "execution_count": 88,
   "id": "fdf7e451",
   "metadata": {},
   "outputs": [],
   "source": [
    "#activation function \n",
    "act = {'leakRelu': lambda x:np.maximum(.001*x, x),\n",
    "       'tanch': lambda x:np.tanh(x),\n",
    "        'sigmoid': lambda x:np.transpose(np.exp(x).T/np.sum(np.exp(x), axis=1))}\n",
    "\n",
    "\n",
    "def leekRelyDrevative(x, leak):\n",
    "    if len(x.shape) != 1:\n",
    "        x_vec = x.reshape(x.shape[0]*x.shape[1])\n",
    "    else:\n",
    "        x_vec = x\n",
    "\n",
    "    y = []\n",
    "    for i in range(len(x_vec)):\n",
    "        if x_vec[i] >0:\n",
    "            y.append(1)\n",
    "            \n",
    "        elif x_vec[i]<0:\n",
    "            y.append(leak)\n",
    "            \n",
    "        else:\n",
    "            y.append(0)\n",
    "\n",
    "    y = np.array(y)\n",
    "    return y.reshape(x.shape)\n",
    "\n",
    "\n",
    "actDrevative = {'leakRelu':lambda x: leekRelyDrevative(x, .001),\n",
    "       'tanch': lambda x:np.tanh(x),\n",
    "        'sigmoid': lambda x: act['sigmoid'](x)*(1-act['sigmoid'](x))}\n",
    "\n",
    "# Test\n",
    "# x = np.array([1, 2, 3, 4, -10])\n",
    "# y = actDrevative['leakRelu'](x)\n",
    "# print(x)\n",
    "# print(y)\n"
   ]
  },
  {
   "cell_type": "markdown",
   "id": "a34695e1",
   "metadata": {},
   "source": [
    "# Defining  hidden layers"
   ]
  },
  {
   "cell_type": "code",
   "execution_count": 89,
   "id": "c28b120c",
   "metadata": {},
   "outputs": [
    {
     "name": "stdout",
     "output_type": "stream",
     "text": [
      "W.shape= (17, 50)\n"
     ]
    },
    {
     "data": {
      "image/png": "[encoded data removed]",
      "text/plain": [
       "<Figure size 432x288 with 1 Axes>"
      ]
     },
     "metadata": {
      "needs_background": "light"
     },
     "output_type": "display_data"
    },
    {
     "data": {
      "image/png": "[encoded data removed]",
      "text/plain": [
       "<Figure size 432x288 with 1 Axes>"
      ]
     },
     "metadata": {
      "needs_background": "light"
     },
     "output_type": "display_data"
    },
    {
     "name": "stdout",
     "output_type": "stream",
     "text": [
      "W.shape= (50, 7)\n"
     ]
    },
    {
     "data": {
      "image/png": "[encoded data removed]",
      "text/plain": [
       "<Figure size 432x288 with 1 Axes>"
      ]
     },
     "metadata": {
      "needs_background": "light"
     },
     "output_type": "display_data"
    },
    {
     "data": {
      "image/png": "[encoded data removed]",
      "text/plain": [
       "<Figure size 432x288 with 1 Axes>"
      ]
     },
     "metadata": {
      "needs_background": "light"
     },
     "output_type": "display_data"
    }
   ],
   "source": [
    "#init weights \n",
    "hiddenLayerSizes = [50, 7]\n",
    "nonlinearities = ['leakRelu']*(len(hiddenLayerSizes)-1) + ['sigmoid']\n",
    "weights = []\n",
    "\n",
    "\n",
    "\n",
    "#forward path\n",
    "Hsaved = {}\n",
    "for i in range (len(hiddenLayerSizes)): \n",
    "    X = dataSetInput if i==0 else Hsaved[i-1] \n",
    "    fan_in = X.shape[1] \n",
    "    fan_out = hiddenLayerSizes[i] #selecting the size of the hidden layer \n",
    "    W = np.random.randn(fan_in, fan_out) / np.sqrt(fan_in/2) \n",
    "    weights.append(W)  #saving weights\n",
    "    print (\"W.shape=\", W.shape)\n",
    "    \n",
    "    H = np.matmul(X, W) #matrix multplixation\n",
    "   \n",
    "    plt.plot(H, 'bo')\n",
    "    plt.grid(True)\n",
    "    plt.title(\"before activation\")\n",
    "    plt.show()\n",
    "\n",
    "    H = act[nonlinearities[i]](H)  #applying activation function \n",
    "    \n",
    "    \n",
    "    plt.plot(H, 'bo')\n",
    "    plt.grid(True)\n",
    "    plt.title(\"after actiavation\")\n",
    "    plt.show()\n",
    "    \n",
    "    Hsaved[i] = H # saveing resluts to use it to the next loop\n",
    "\n"
   ]
  },
  {
   "cell_type": "markdown",
   "id": "73c9ddd6",
   "metadata": {},
   "source": [
    "# loss function [cross Entropy](https://gist.github.com/Atlas7/22372a4f6b0846cfc3797766d7b529e8)"
   ]
  },
  {
   "cell_type": "code",
   "execution_count": 90,
   "id": "fbc1ccdb",
   "metadata": {},
   "outputs": [],
   "source": [
    "# loass function \n",
    "def my_log(x):\n",
    "    y = np.zeros(x.shape)\n",
    "    \n",
    "    if len(x.shape) == 1:\n",
    "        for i in range(x.shape[0]):\n",
    "            if x[i] != 0:\n",
    "                y[i] = np.log(x[i])\n",
    "    else:\n",
    "        for i in range(x.shape[0]):\n",
    "            for j in range(x.shape[1]):\n",
    "                if x[i][j] != 0:\n",
    "                    y[i][j] = np.log(x[i][j])\n",
    "    return y\n",
    "\n",
    "#test\n",
    "# print(my_log(np.array([3, 4, 0])))\n",
    "\n",
    "\n",
    "def crossEntropyLoss(trueY, predictY):\n",
    "                    \n",
    "    loss=-(1.0/trueY.shape[0])* np.sum(trueY*my_log(predictY) + (1-trueY)*my_log(1-predictY))\n",
    "    \n",
    "    return loss\n",
    "#test\n",
    "# print(crossEntropyLoss(dataSetOutput[:2], np.array([[1, 0, 0], [.3, .4, 0]])))\n",
    "\n",
    "\n",
    "#loss dervative\n",
    "def crossEntropyLossDrvative(trueY, predictY):\n",
    "    d= -(1.0/trueY.shape[0])* (trueY/predictY - (1-trueY)/(1-predictY))\n",
    "    return d\n",
    "\n",
    "# test\n",
    "# print(\"test loss dervative:\", crossEntropyLossDrvative(np.array([[1, 0, 0], [0, 1, 0]]), np.array([[.2, .7, 0.1], [.3, .4, .3]])) )   "
   ]
  },
  {
   "cell_type": "markdown",
   "id": "f839e2eb",
   "metadata": {},
   "source": [
    "# Forward Path"
   ]
  },
  {
   "cell_type": "code",
   "execution_count": 91,
   "id": "2118a271",
   "metadata": {},
   "outputs": [
    {
     "name": "stdout",
     "output_type": "stream",
     "text": [
      "flow[ 0 ]= [[-0.84074853 -1.1433189  -1.30659814 -0.63115304 -1.56505251 -2.18572039\n",
      "  -0.84145059 -1.0633406   0.28908744  0.36761343  1.42386707  1.8391164\n",
      "   0.68078638  2.40217287  1.92572347  0.83837103  1.        ]]\n",
      "flow[ 0 ]= (6843, 17)\n",
      "flow[ 1 ]= [[-0.51324823 -1.85994053  1.16432497 -1.20807291  1.86578579  0.39678806\n",
      "   1.01479655  1.07168944  1.58510708 -1.67093054 -1.3107825  -1.54108512\n",
      "  -0.36742217  0.45846463  0.8331826  -2.96522515 -1.3337885   0.07637205\n",
      "  -2.72426332  0.4959669   0.43356229 -2.09078841 -0.78576362 -0.36946677\n",
      "   1.46411683  0.35440139 -3.774464    0.00878547 -4.83198934 -0.26044946\n",
      "  -1.57471478  2.25366968 -0.56645884  1.0175724  -1.14248819 -2.26263762\n",
      "  -0.1084091  -0.07479944 -2.8382773   0.43944429 -5.04535553  0.54552518\n",
      "   2.27783095 -1.67618982  3.0987459  -1.46500449  3.65723044 -1.75278188\n",
      "   3.53331955 -2.73410245]]\n",
      "flow[ 1 ]= (6843, 50)\n",
      "flow[ 2 ]= [[-5.13248229e-04 -1.85994053e-03  1.16432497e+00 -1.20807291e-03\n",
      "   1.86578579e+00  3.96788061e-01  1.01479655e+00  1.07168944e+00\n",
      "   1.58510708e+00 -1.67093054e-03 -1.31078250e-03 -1.54108512e-03\n",
      "  -3.67422174e-04  4.58464626e-01  8.33182600e-01 -2.96522515e-03\n",
      "  -1.33378850e-03  7.63720496e-02 -2.72426332e-03  4.95966903e-01\n",
      "   4.33562293e-01 -2.09078841e-03 -7.85763624e-04 -3.69466772e-04\n",
      "   1.46411683e+00  3.54401394e-01 -3.77446400e-03  8.78546932e-03\n",
      "  -4.83198934e-03 -2.60449459e-04 -1.57471478e-03  2.25366968e+00\n",
      "  -5.66458844e-04  1.01757240e+00 -1.14248819e-03 -2.26263762e-03\n",
      "  -1.08409099e-04 -7.47994430e-05 -2.83827730e-03  4.39444289e-01\n",
      "  -5.04535553e-03  5.45525177e-01  2.27783095e+00 -1.67618982e-03\n",
      "   3.09874590e+00 -1.46500449e-03  3.65723044e+00 -1.75278188e-03\n",
      "   3.53331955e+00 -2.73410245e-03]]\n",
      "flow[ 2 ]= (6843, 50)\n",
      "flow[ 3 ]= [[-0.94645171 -0.86477913 -0.4418716  -1.14981451  1.37221156 -1.10975446\n",
      "  -0.18921784]]\n",
      "flow[ 3 ]= (6843, 7)\n",
      "flow[ 4 ]= [[0.05649348 0.0613011  0.09356958 0.04609767 0.57409134 0.04798183\n",
      "  0.12046498]]\n",
      "flow[ 4 ]= (6843, 7)\n"
     ]
    }
   ],
   "source": [
    "#forward path\n",
    "def forward(dataInput, plot=False, debug=False):\n",
    "    outputFlow_list = []\n",
    "    outputFlow_list.append(dataInput)\n",
    "    \n",
    "    for i in range (len(hiddenLayerSizes)): \n",
    "        X = outputFlow_list[-1] \n",
    "        W = weights[i]\n",
    "        \n",
    "        H = np.matmul(X, W) #matrix multplixation\n",
    "        if debug:\n",
    "            print(\"X: \", X.shape, \", W:\", W.shape, \" =H.shape=\", H.shape)\n",
    "        outputFlow_list.append(H)\n",
    "\n",
    "        if plot:\n",
    "            plt.plot(H, 'bo')\n",
    "            plt.grid(True)\n",
    "            plt.title(\"before activation\")\n",
    "            plt.show()\n",
    "\n",
    "        H = act[nonlinearities[i]](H)  #applying activation function \n",
    "        if debug:\n",
    "            print(\"after activation H: \",H.shape)\n",
    "        outputFlow_list.append(H) # saveing resluts to use it to the next loop\n",
    "\n",
    "        if plot:\n",
    "            plt.plot(H, 'bo')\n",
    "            plt.grid(True)\n",
    "            plt.title(\"after actiavation\")\n",
    "            plt.show()\n",
    "\n",
    "        \n",
    "    \n",
    "    return outputFlow_list\n",
    "\n",
    "# test loop\n",
    "outputFlow_list = forward(dataSetInput)\n",
    "for i in range(len(outputFlow_list)): \n",
    "    print(\"flow[\", i, ']=', outputFlow_list[i][:1])\n",
    "    print(\"flow[\", i, ']=', outputFlow_list[i].shape)"
   ]
  },
  {
   "cell_type": "markdown",
   "id": "669e9ac6",
   "metadata": {},
   "source": [
    "# BackPropagation"
   ]
  },
  {
   "cell_type": "code",
   "execution_count": 92,
   "id": "096b5901",
   "metadata": {},
   "outputs": [],
   "source": [
    "# back brobagation\n",
    "def backpropagationDetailed(lr, outputFlow_list, debug=False):\n",
    "    derv = None # the variable that will hold the chain rule product \n",
    "    y_hat = outputFlow_list[-1] # the output of our netwok\n",
    "    \n",
    "    #1- loss dervative\n",
    "    drev = crossEntropyLossDrvative(dataSetOutput, y_hat)\n",
    "    if debug:\n",
    "        print(\"1- dervative = \",drev.shape, drev[:1] )\n",
    "        print()\n",
    "    \n",
    "    #2- sigmoid\n",
    "    yBeforeSig  = outputFlow_list[-2]\n",
    "    sigmoidDrev = actDrevative['sigmoid'](yBeforeSig) # 150 x 3\n",
    "    drev = drev * sigmoidDrev\n",
    "    if debug:\n",
    "        print(\"2- dervative = \",drev.shape, drev[:1] )\n",
    "        print(\"y-sigmoidDrev-inupt=\", yBeforeSig[:1])\n",
    "        print(\"y-sigmoidDrev-output=\", sigmoidDrev[:1])\n",
    "        print()\n",
    "\n",
    "\n",
    "    \n",
    "    # 3- hidden layer (gradient)\n",
    "    grad_step = np.matmul(np.transpose(outputFlow_list[-3]), drev) # (10 x 150) (150 x 3) = (10 x 3)\n",
    "    weights[-1] -= lr * grad_step\n",
    "    if debug:\n",
    "        print(\"grad-step= \",grad_step.shape, grad_step[:1])\n",
    "    \n",
    "    drev = np.matmul(drev, np.transpose(weights[-1])) # (150 x 3) (3 x 10) = (150 x 10)\n",
    "    if debug:\n",
    "        print(\"3- dervative = \",drev.shape, drev[:1] )\n",
    "        print()\n",
    "\n",
    "    \n",
    "    #4- reulu\n",
    "    reluDev = actDrevative['leakRelu'](outputFlow_list[-4])  # 150 x 10\n",
    "#     reluDev = np.random.rand(150, 10)\n",
    "    drev = drev * reluDev # elemet wise product\n",
    "    if debug:\n",
    "        print(\"reludev input=\", outputFlow_list[-4][:1])\n",
    "        print(\"reludev output\", reluDev[:1])\n",
    "        print(\"4- drevative = \",drev.shape, drev[:1] )\n",
    "        print()\n",
    "\n",
    "    \n",
    "    #4- layer 1 output (gradient)\n",
    "    grad_step = np.matmul(np.transpose(outputFlow_list[-5]), drev) # x(5 x 150) (150 x 10) = (5 x 10)\n",
    "    weights[-2] -= lr * grad_step\n",
    "    if debug:\n",
    "        print(\"grad-step= \",grad_step.shape, grad_step[:1])\n",
    "        \n",
    "    drev = np.matmul(drev, np.transpose(weights[-2])) # (150 x 10) (10 x 4) = (150 x 4)\n",
    "                                                      # for the bias and gradient of the input\n",
    "    if debug:\n",
    "        print(\"5- dervative = \",drev.shape, drev[:1] )\n",
    "\n",
    "    \n",
    "    \n",
    "    "
   ]
  },
  {
   "cell_type": "markdown",
   "id": "054ce901",
   "metadata": {},
   "source": [
    "# Generic backpropagation"
   ]
  },
  {
   "cell_type": "code",
   "execution_count": 93,
   "id": "cfb870d6",
   "metadata": {},
   "outputs": [],
   "source": [
    "# back brobagation\n",
    "def backpropagationGeneric(lr, outputFlow_list, debug=False):\n",
    "    derv = None # the variable that will hold the chain rule product \n",
    "    backIndex = -1\n",
    "    y_hat = outputFlow_list[backIndex] # the output of our netwok\n",
    "    \n",
    "    #1- loss dervative\n",
    "    drev = crossEntropyLossDrvative(dataSetOutput, y_hat)\n",
    "    if debug:\n",
    "        print(\"1- dervative (loss) = \",drev.shape, drev[:1] )\n",
    "        print()\n",
    "    \n",
    "    # looping over all hidden layers\n",
    "    for i in range(len(hiddenLayerSizes)-1, -1, -1):\n",
    "        # 1- activation\n",
    "        backIndex -= 1\n",
    "        beforeActivaion  = outputFlow_list[backIndex]\n",
    "        activationDrev = actDrevative[nonlinearities[i]](beforeActivaion) # 150 x 3\n",
    "        drev = drev * activationDrev\n",
    "        if debug:\n",
    "            print(\"1- dervative = \",drev.shape, drev[:1] )\n",
    "            print(\"y-before-activation=\", beforeActivaion[:1])\n",
    "            print(\"y-activation-dervative=\", activationDrev[:1])\n",
    "            print()     \n",
    "        \n",
    "        # 2- grad\n",
    "        backIndex -= 1\n",
    "        X = outputFlow_list[backIndex]\n",
    "        grad_step = np.matmul(np.transpose(X), drev) # (10 x 150) (150 x 3) = (10 x 3)\n",
    "        weights[i] -= lr * grad_step\n",
    "        if debug:\n",
    "            print(\"2- grad-step= \",grad_step.shape, grad_step[:1])\n",
    "\n",
    "        \n",
    "        # 3 drev throw the path\n",
    "        drev = np.matmul(drev, np.transpose(weights[i])) # (150 x 3) (3 x 10) = (150 x 10)\n",
    "        if debug:\n",
    "            print(\"3- dervative = \",drev.shape, drev[:1] )\n",
    "            print()\n",
    "\n",
    "    \n",
    "    \n"
   ]
  },
  {
   "cell_type": "markdown",
   "id": "06761f67",
   "metadata": {},
   "source": [
    "# Testing "
   ]
  },
  {
   "cell_type": "code",
   "execution_count": 94,
   "id": "f031fb5b",
   "metadata": {},
   "outputs": [],
   "source": [
    "# evaluating test\n",
    "\n",
    "def test(trueY, predictY, dataSetClass=1):\n",
    "    \"\"\"\n",
    "    performing test and returns the accuracy of the data\n",
    "    TODO return class names\n",
    "    \"\"\"\n",
    "    predictIndex = np.argmax(predictY, axis=1) #along rows\n",
    "\n",
    "    truePredicts =0\n",
    "    counter =0\n",
    "    for i in predictIndex:\n",
    "        if trueY[counter][i] == 1:\n",
    "            truePredicts +=1\n",
    "        counter +=1\n",
    "    return truePredicts/trueY.shape[0]\n",
    "\n"
   ]
  },
  {
   "cell_type": "markdown",
   "id": "f6def989",
   "metadata": {},
   "source": [
    "# Train"
   ]
  },
  {
   "cell_type": "code",
   "execution_count": 95,
   "id": "4596499a",
   "metadata": {},
   "outputs": [],
   "source": [
    "lossL = []\n",
    "scoreL = []\n",
    "def train(epochs, lr):\n",
    "   \n",
    "    for i in range(epochs):\n",
    "        #forward\n",
    "        outputFlow_list = forward(dataSetInput)\n",
    "\n",
    "        #loss calculations\n",
    "        loss = crossEntropyLoss(dataSetOutput, outputFlow_list[-1])\n",
    "        lossL.append(loss)\n",
    "        \n",
    "        \n",
    "        #backpropagation\n",
    "#         backpropagationDetailed(lr, outputFlow_list, debug=False)\n",
    "        backpropagationGeneric(lr, outputFlow_list, debug=False)\n",
    "\n",
    "        \n",
    "        # TESTING\n",
    "        #forward\n",
    "        outputFlow_list = forward(dataSetTestInput)\n",
    "        #evaluationg score\n",
    "        score = test(dataSetTestOutput, outputFlow_list[-1])\n",
    "        scoreL.append(score)\n",
    "    \n",
    "\n",
    "        \n",
    "        print(\"Epoch: \",i, \", Loss=\", loss, \", Score=\", score )\n",
    "        "
   ]
  },
  {
   "cell_type": "code",
   "execution_count": 96,
   "id": "f8c7136d",
   "metadata": {},
   "outputs": [
    {
     "name": "stdout",
     "output_type": "stream",
     "text": [
      "Epoch:  0 , Loss= 4.335131079257854 , Score= 0.5100472813238771\n",
      "Epoch:  1 , Loss= 2.085371385966994 , Score= 0.5641252955082743\n",
      "Epoch:  2 , Loss= 2.1700059790828394 , Score= 0.6440602836879432\n",
      "Epoch:  3 , Loss= 2.2303367263841687 , Score= 0.664598108747045\n",
      "Epoch:  4 , Loss= 1.490470954726367 , Score= 0.7195626477541371\n",
      "Epoch:  5 , Loss= 1.721615813673475 , Score= 0.6942966903073287\n",
      "Epoch:  6 , Loss= 1.6732927689904467 , Score= 0.7355200945626478\n",
      "Epoch:  7 , Loss= 1.6761241326443326 , Score= 0.7609338061465721\n",
      "Epoch:  8 , Loss= 1.913362180600016 , Score= 0.8651004728132388\n",
      "Epoch:  9 , Loss= 0.7747324675375415 , Score= 0.8658392434988179\n",
      "Epoch:  10 , Loss= 0.7697064999364608 , Score= 0.8262411347517731\n",
      "Epoch:  11 , Loss= 0.8601143225023123 , Score= 0.7791075650118203\n",
      "Epoch:  12 , Loss= 1.3970774714185232 , Score= 0.7776300236406619\n",
      "Epoch:  13 , Loss= 1.9117137637432806 , Score= 0.8776595744680851\n",
      "Epoch:  14 , Loss= 0.6823374659726847 , Score= 0.879580378250591\n",
      "Epoch:  15 , Loss= 0.6842663688639856 , Score= 0.889775413711584\n",
      "Epoch:  16 , Loss= 0.6357358517678463 , Score= 0.8896276595744681\n",
      "Epoch:  17 , Loss= 0.6396713432412242 , Score= 0.8738179669030733\n",
      "Epoch:  18 , Loss= 0.6980718084771836 , Score= 0.8101359338061466\n",
      "Epoch:  19 , Loss= 0.893969809053815 , Score= 0.7669917257683215\n",
      "Epoch:  20 , Loss= 1.7375252755698836 , Score= 0.7810283687943262\n",
      "Epoch:  21 , Loss= 2.415761233796961 , Score= 0.8426418439716312\n",
      "Epoch:  22 , Loss= 0.7779737540485782 , Score= 0.8129432624113475\n",
      "Epoch:  23 , Loss= 1.3621181734340622 , Score= 0.8512115839243499\n",
      "Epoch:  24 , Loss= 0.8099361017918679 , Score= 0.7960992907801419\n",
      "Epoch:  25 , Loss= 1.5429250965805275 , Score= 0.7847222222222222\n",
      "Epoch:  26 , Loss= 2.622538664473115 , Score= 0.8701241134751773\n",
      "Epoch:  27 , Loss= 0.670068546777612 , Score= 0.8379137115839244\n"
     ]
    },
    {
     "name": "stderr",
     "output_type": "stream",
     "text": [
      "/tmp/ipykernel_25267/3157257820.py:31: RuntimeWarning: invalid value encountered in true_divide\n",
      "  d= -(1.0/trueY.shape[0])* (trueY/predictY - (1-trueY)/(1-predictY))\n"
     ]
    },
    {
     "name": "stdout",
     "output_type": "stream",
     "text": [
      "Epoch:  28 , Loss= 0.9955684646686703 , Score= 0.1502659574468085\n",
      "Epoch:  29 , Loss= nan , Score= 0.1502659574468085\n",
      "Epoch:  30 , Loss= nan , Score= 0.1502659574468085\n",
      "Epoch:  31 , Loss= nan , Score= 0.1502659574468085\n",
      "Epoch:  32 , Loss= nan , Score= 0.1502659574468085\n",
      "Epoch:  33 , Loss= nan , Score= 0.1502659574468085\n",
      "Epoch:  34 , Loss= nan , Score= 0.1502659574468085\n",
      "Epoch:  35 , Loss= nan , Score= 0.1502659574468085\n",
      "Epoch:  36 , Loss= nan , Score= 0.1502659574468085\n",
      "Epoch:  37 , Loss= nan , Score= 0.1502659574468085\n",
      "Epoch:  38 , Loss= nan , Score= 0.1502659574468085\n",
      "Epoch:  39 , Loss= nan , Score= 0.1502659574468085\n",
      "Epoch:  40 , Loss= nan , Score= 0.1502659574468085\n",
      "Epoch:  41 , Loss= nan , Score= 0.1502659574468085\n"
     ]
    },
    {
     "ename": "KeyboardInterrupt",
     "evalue": "",
     "output_type": "error",
     "traceback": [
      "\u001b[0;31m---------------------------------------------------------------------------\u001b[0m",
      "\u001b[0;31mKeyboardInterrupt\u001b[0m                         Traceback (most recent call last)",
      "\u001b[0;32m/tmp/ipykernel_25267/1854012701.py\u001b[0m in \u001b[0;36m<module>\u001b[0;34m\u001b[0m\n\u001b[0;32m----> 1\u001b[0;31m \u001b[0mtrain\u001b[0m\u001b[0;34m(\u001b[0m\u001b[0;36m500\u001b[0m\u001b[0;34m,\u001b[0m \u001b[0;36m.5\u001b[0m\u001b[0;34m)\u001b[0m\u001b[0;34m\u001b[0m\u001b[0;34m\u001b[0m\u001b[0m\n\u001b[0m\u001b[1;32m      2\u001b[0m \u001b[0;34m\u001b[0m\u001b[0m\n",
      "\u001b[0;32m/tmp/ipykernel_25267/3184372801.py\u001b[0m in \u001b[0;36mtrain\u001b[0;34m(epochs, lr)\u001b[0m\n\u001b[1;32m     14\u001b[0m         \u001b[0;31m#backpropagation\u001b[0m\u001b[0;34m\u001b[0m\u001b[0;34m\u001b[0m\u001b[0m\n\u001b[1;32m     15\u001b[0m \u001b[0;31m#         backpropagationDetailed(lr, outputFlow_list, debug=False)\u001b[0m\u001b[0;34m\u001b[0m\u001b[0;34m\u001b[0m\u001b[0m\n\u001b[0;32m---> 16\u001b[0;31m         \u001b[0mbackpropagationGeneric\u001b[0m\u001b[0;34m(\u001b[0m\u001b[0mlr\u001b[0m\u001b[0;34m,\u001b[0m \u001b[0moutputFlow_list\u001b[0m\u001b[0;34m,\u001b[0m \u001b[0mdebug\u001b[0m\u001b[0;34m=\u001b[0m\u001b[0;32mFalse\u001b[0m\u001b[0;34m)\u001b[0m\u001b[0;34m\u001b[0m\u001b[0;34m\u001b[0m\u001b[0m\n\u001b[0m\u001b[1;32m     17\u001b[0m \u001b[0;34m\u001b[0m\u001b[0m\n\u001b[1;32m     18\u001b[0m \u001b[0;34m\u001b[0m\u001b[0m\n",
      "\u001b[0;32m/tmp/ipykernel_25267/2331013795.py\u001b[0m in \u001b[0;36mbackpropagationGeneric\u001b[0;34m(lr, outputFlow_list, debug)\u001b[0m\n\u001b[1;32m     16\u001b[0m         \u001b[0mbackIndex\u001b[0m \u001b[0;34m-=\u001b[0m \u001b[0;36m1\u001b[0m\u001b[0;34m\u001b[0m\u001b[0;34m\u001b[0m\u001b[0m\n\u001b[1;32m     17\u001b[0m         \u001b[0mbeforeActivaion\u001b[0m  \u001b[0;34m=\u001b[0m \u001b[0moutputFlow_list\u001b[0m\u001b[0;34m[\u001b[0m\u001b[0mbackIndex\u001b[0m\u001b[0;34m]\u001b[0m\u001b[0;34m\u001b[0m\u001b[0;34m\u001b[0m\u001b[0m\n\u001b[0;32m---> 18\u001b[0;31m         \u001b[0mactivationDrev\u001b[0m \u001b[0;34m=\u001b[0m \u001b[0mactDrevative\u001b[0m\u001b[0;34m[\u001b[0m\u001b[0mnonlinearities\u001b[0m\u001b[0;34m[\u001b[0m\u001b[0mi\u001b[0m\u001b[0;34m]\u001b[0m\u001b[0;34m]\u001b[0m\u001b[0;34m(\u001b[0m\u001b[0mbeforeActivaion\u001b[0m\u001b[0;34m)\u001b[0m \u001b[0;31m# 150 x 3\u001b[0m\u001b[0;34m\u001b[0m\u001b[0;34m\u001b[0m\u001b[0m\n\u001b[0m\u001b[1;32m     19\u001b[0m         \u001b[0mdrev\u001b[0m \u001b[0;34m=\u001b[0m \u001b[0mdrev\u001b[0m \u001b[0;34m*\u001b[0m \u001b[0mactivationDrev\u001b[0m\u001b[0;34m\u001b[0m\u001b[0;34m\u001b[0m\u001b[0m\n\u001b[1;32m     20\u001b[0m         \u001b[0;32mif\u001b[0m \u001b[0mdebug\u001b[0m\u001b[0;34m:\u001b[0m\u001b[0;34m\u001b[0m\u001b[0;34m\u001b[0m\u001b[0m\n",
      "\u001b[0;32m/tmp/ipykernel_25267/1643988820.py\u001b[0m in \u001b[0;36m<lambda>\u001b[0;34m(x)\u001b[0m\n\u001b[1;32m     26\u001b[0m \u001b[0;34m\u001b[0m\u001b[0m\n\u001b[1;32m     27\u001b[0m \u001b[0;34m\u001b[0m\u001b[0m\n\u001b[0;32m---> 28\u001b[0;31m actDrevative = {'leakRelu':lambda x: leekRelyDrevative(x, .001),\n\u001b[0m\u001b[1;32m     29\u001b[0m        \u001b[0;34m'tanch'\u001b[0m\u001b[0;34m:\u001b[0m \u001b[0;32mlambda\u001b[0m \u001b[0mx\u001b[0m\u001b[0;34m:\u001b[0m\u001b[0mnp\u001b[0m\u001b[0;34m.\u001b[0m\u001b[0mtanh\u001b[0m\u001b[0;34m(\u001b[0m\u001b[0mx\u001b[0m\u001b[0;34m)\u001b[0m\u001b[0;34m,\u001b[0m\u001b[0;34m\u001b[0m\u001b[0;34m\u001b[0m\u001b[0m\n\u001b[1;32m     30\u001b[0m         'sigmoid': lambda x: act['sigmoid'](x)*(1-act['sigmoid'](x))}\n",
      "\u001b[0;32m/tmp/ipykernel_25267/1643988820.py\u001b[0m in \u001b[0;36mleekRelyDrevative\u001b[0;34m(x, leak)\u001b[0m\n\u001b[1;32m     13\u001b[0m     \u001b[0my\u001b[0m \u001b[0;34m=\u001b[0m \u001b[0;34m[\u001b[0m\u001b[0;34m]\u001b[0m\u001b[0;34m\u001b[0m\u001b[0;34m\u001b[0m\u001b[0m\n\u001b[1;32m     14\u001b[0m     \u001b[0;32mfor\u001b[0m \u001b[0mi\u001b[0m \u001b[0;32min\u001b[0m \u001b[0mrange\u001b[0m\u001b[0;34m(\u001b[0m\u001b[0mlen\u001b[0m\u001b[0;34m(\u001b[0m\u001b[0mx_vec\u001b[0m\u001b[0;34m)\u001b[0m\u001b[0;34m)\u001b[0m\u001b[0;34m:\u001b[0m\u001b[0;34m\u001b[0m\u001b[0;34m\u001b[0m\u001b[0m\n\u001b[0;32m---> 15\u001b[0;31m         \u001b[0;32mif\u001b[0m \u001b[0mx_vec\u001b[0m\u001b[0;34m[\u001b[0m\u001b[0mi\u001b[0m\u001b[0;34m]\u001b[0m \u001b[0;34m>\u001b[0m\u001b[0;36m0\u001b[0m\u001b[0;34m:\u001b[0m\u001b[0;34m\u001b[0m\u001b[0;34m\u001b[0m\u001b[0m\n\u001b[0m\u001b[1;32m     16\u001b[0m             \u001b[0my\u001b[0m\u001b[0;34m.\u001b[0m\u001b[0mappend\u001b[0m\u001b[0;34m(\u001b[0m\u001b[0;36m1\u001b[0m\u001b[0;34m)\u001b[0m\u001b[0;34m\u001b[0m\u001b[0;34m\u001b[0m\u001b[0m\n\u001b[1;32m     17\u001b[0m \u001b[0;34m\u001b[0m\u001b[0m\n",
      "\u001b[0;31mKeyboardInterrupt\u001b[0m: "
     ]
    }
   ],
   "source": [
    "epochs = 300\n",
    "lr = .4\n",
    "train(epochs, lr)\n",
    "\n"
   ]
  },
  {
   "cell_type": "code",
   "execution_count": 97,
   "id": "1aa2f600",
   "metadata": {},
   "outputs": [
    {
     "name": "stdout",
     "output_type": "stream",
     "text": [
      "max-score= 0.889775413711584\n",
      "avg-score= 0.573215692896544\n",
      "min-loss= nan\n"
     ]
    },
    {
     "ename": "NameError",
     "evalue": "name 'epochs' is not defined",
     "output_type": "error",
     "traceback": [
      "\u001b[0;31m---------------------------------------------------------------------------\u001b[0m",
      "\u001b[0;31mNameError\u001b[0m                                 Traceback (most recent call last)",
      "\u001b[0;32m/tmp/ipykernel_25267/1309817041.py\u001b[0m in \u001b[0;36m<module>\u001b[0;34m\u001b[0m\n\u001b[1;32m      6\u001b[0m \u001b[0mplt\u001b[0m\u001b[0;34m.\u001b[0m\u001b[0mplot\u001b[0m\u001b[0;34m(\u001b[0m\u001b[0mlossL\u001b[0m\u001b[0;34m)\u001b[0m\u001b[0;34m\u001b[0m\u001b[0;34m\u001b[0m\u001b[0m\n\u001b[1;32m      7\u001b[0m \u001b[0mplt\u001b[0m\u001b[0;34m.\u001b[0m\u001b[0mgrid\u001b[0m\u001b[0;34m(\u001b[0m\u001b[0;32mTrue\u001b[0m\u001b[0;34m)\u001b[0m\u001b[0;34m\u001b[0m\u001b[0;34m\u001b[0m\u001b[0m\n\u001b[0;32m----> 8\u001b[0;31m \u001b[0mplt\u001b[0m\u001b[0;34m.\u001b[0m\u001b[0mtitle\u001b[0m\u001b[0;34m(\u001b[0m\u001b[0;34mf\"Loss Function_epoch{epochs}_lr{lr}\"\u001b[0m\u001b[0;34m)\u001b[0m\u001b[0;34m\u001b[0m\u001b[0;34m\u001b[0m\u001b[0m\n\u001b[0m\u001b[1;32m      9\u001b[0m \u001b[0mplt\u001b[0m\u001b[0;34m.\u001b[0m\u001b[0mshow\u001b[0m\u001b[0;34m(\u001b[0m\u001b[0;34m)\u001b[0m\u001b[0;34m\u001b[0m\u001b[0;34m\u001b[0m\u001b[0m\n\u001b[1;32m     10\u001b[0m \u001b[0mfig\u001b[0m\u001b[0;34m.\u001b[0m\u001b[0msavefig\u001b[0m\u001b[0;34m(\u001b[0m\u001b[0;34mf'loss_epoch{epochs}_lr{lr}.jpg'\u001b[0m\u001b[0;34m,\u001b[0m \u001b[0mbbox_inches\u001b[0m\u001b[0;34m=\u001b[0m\u001b[0;34m'tight'\u001b[0m\u001b[0;34m,\u001b[0m \u001b[0mdpi\u001b[0m\u001b[0;34m=\u001b[0m\u001b[0;36m150\u001b[0m\u001b[0;34m)\u001b[0m\u001b[0;34m\u001b[0m\u001b[0;34m\u001b[0m\u001b[0m\n",
      "\u001b[0;31mNameError\u001b[0m: name 'epochs' is not defined"
     ]
    },
    {
     "data": {
      "image/png": "[encoded data removed]",
      "text/plain": [
       "<Figure size 432x288 with 1 Axes>"
      ]
     },
     "metadata": {
      "needs_background": "light"
     },
     "output_type": "display_data"
    }
   ],
   "source": [
    "print(\"max-score=\", np.max(scoreL))\n",
    "print(\"avg-score=\", np.average(scoreL))\n",
    "print(\"min-loss=\", np.min(lossL))\n",
    "\n",
    "fig = plt.figure()\n",
    "plt.plot(lossL)\n",
    "plt.grid(True)\n",
    "plt.title(f\"Loss Function_epoch{epochs}_lr{lr}\")\n",
    "plt.show()\n",
    "fig.savefig(f'loss_epoch{epochs}_lr{lr}_{ datetime.datetime.now()}.jpg', bbox_inches='tight', dpi=150)\n",
    "\n",
    "fig = plt.figure()\n",
    "plt.plot(scoreL)\n",
    "plt.grid(True)\n",
    "plt.title(f\"Scoreepoch{epochs}_lr{lr}\")\n",
    "fig.savefig(f'score_epoch{epochs}_lr{lr}_{ datetime.datetime.now()}.jpg', bbox_inches='tight', dpi=150)\n",
    "plt.show()\n",
    "\n"
   ]
  },
  {
   "cell_type": "markdown",
   "id": "5b96c4c4",
   "metadata": {},
   "source": []
  },
  {
   "cell_type": "code",
   "execution_count": 117,
   "id": "89c31322",
   "metadata": {},
   "outputs": [
    {
     "data": {
      "text/plain": [
       "'./train-dryBean/2022-04-20-00-47-26_epoch=100_lr0.3'"
      ]
     },
     "execution_count": 117,
     "metadata": {},
     "output_type": "execute_result"
    }
   ],
   "source": [
    "import os\n",
    "import datetime\n",
    "\n",
    "epochs = 100\n",
    "lr = .3\n",
    "def creatDirectory(path, params):\n",
    "    '''\n",
    "    creates a new directory to save figures and scores with input params a dictionary\n",
    "    '''\n",
    "    direc = f\"{datetime.datetime.now().strftime('%Y-%m-%d-%H-%M-%S')}_epoch={params['epochs']}_lr{params['lr']}\"\n",
    "\n",
    "    if not os.path.exists(path + direc):\n",
    "        os.makedirs(path + direc)\n",
    "\n",
    "    return path + direc\n",
    "\n",
    "\n",
    "params = {'epochs': epochs, 'lr': lr}\n",
    "newDirec = creatDirectory(f\"./train-dryBean/\", params)\n"
   ]
  },
  {
   "cell_type": "code",
   "execution_count": 100,
   "id": "3be9e5e0",
   "metadata": {},
   "outputs": [
    {
     "data": {
      "text/plain": [
       "'2022-04-20-00-32-27'"
      ]
     },
     "execution_count": 100,
     "metadata": {},
     "output_type": "execute_result"
    }
   ],
   "source": [
    "import datetime\n",
    "\n",
    "datetime.datetime.now().strftime(\"%Y-%m-%d-%H-%M-%S\")"
   ]
  },
  {
   "cell_type": "code",
   "execution_count": null,
   "id": "69fd7e1d",
   "metadata": {},
   "outputs": [],
   "source": []
  }
 ],
 "metadata": {
  "kernelspec": {
   "display_name": "Python 3 (ipykernel)",
   "language": "python",
   "name": "python3"
  },
  "language_info": {
   "codemirror_mode": {
    "name": "ipython",
    "version": 3
   },
   "file_extension": ".py",
   "mimetype": "text/x-python",
   "name": "python",
   "nbconvert_exporter": "python",
   "pygments_lexer": "ipython3",
   "version": "3.9.7"
  }
 },
 "nbformat": 4,
 "nbformat_minor": 5
}
