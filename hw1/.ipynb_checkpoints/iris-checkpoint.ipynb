{
 "cells": [
  {
   "cell_type": "markdown",
   "id": "14543827",
   "metadata": {},
   "source": [
    "# Simple Implementation of [Iris](https://archive.ics.uci.edu/ml/datasets/Iris) dataset\n"
   ]
  },
  {
   "cell_type": "code",
   "execution_count": 102,
   "id": "5ff87c4c",
   "metadata": {},
   "outputs": [
    {
     "data": {
      "text/plain": [
       "'Iris-setosa'"
      ]
     },
     "execution_count": 102,
     "metadata": {},
     "output_type": "execute_result"
    }
   ],
   "source": [
    "import numpy as np\n",
    "\n",
    "\n",
    "\n",
    "\n",
    "def loadData(fileName, dataLengh, dataSetInput, dataSetClass):\n",
    "    \"\"\"\n",
    "    loads a file.data into a numpy array\n",
    "    filename: string\n",
    "    dataLength: int\n",
    "    dataSetInput: n x n numpy ndarray every row represents a stream of input\n",
    "    dataSetClass: n x 1 numpy ndarray\n",
    "\n",
    "    \"\"\"\n",
    "\n",
    "\n",
    "\n",
    "    file = open(fileName, 'rb')\n",
    "    data = [row.decode('utf-8').split(',') for row in file]\n",
    "    file.close()\n",
    "\n",
    "    data= data[:dataLength]\n",
    "\n",
    "    #data input ---> x\n",
    "    data_in = [row[:-1] for row in data]\n",
    "    dataSetInput = np.array(data_in, dtype=float)\n",
    "\n",
    "    #data classes ---> groud truth\n",
    "    data_class = [row[-1][:-1] for row in data]\n",
    "    dataSetClass = np.array(data_class)\n",
    "\n",
    "\n"
   ]
  },
  {
   "cell_type": "code",
   "execution_count": 31,
   "id": "50076074",
   "metadata": {},
   "outputs": [
    {
     "data": {
      "text/plain": [
       "dtype('<U21')"
      ]
     },
     "execution_count": 31,
     "metadata": {},
     "output_type": "execute_result"
    }
   ],
   "source": []
  },
  {
   "cell_type": "code",
   "execution_count": null,
   "id": "b3e203e5",
   "metadata": {},
   "outputs": [],
   "source": []
  }
 ],
 "metadata": {
  "kernelspec": {
   "display_name": "Python 3 (ipykernel)",
   "language": "python",
   "name": "python3"
  },
  "language_info": {
   "codemirror_mode": {
    "name": "ipython",
    "version": 3
   },
   "file_extension": ".py",
   "mimetype": "text/x-python",
   "name": "python",
   "nbconvert_exporter": "python",
   "pygments_lexer": "ipython3",
   "version": "3.9.7"
  }
 },
 "nbformat": 4,
 "nbformat_minor": 5
}
