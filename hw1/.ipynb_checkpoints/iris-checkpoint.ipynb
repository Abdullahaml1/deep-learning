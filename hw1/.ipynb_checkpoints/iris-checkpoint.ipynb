{
 "cells": [
  {
   "cell_type": "markdown",
   "id": "70b5f1b2",
   "metadata": {},
   "source": [
    "# Simple Implementation of [Iris](https://archive.ics.uci.edu/ml/datasets/Iris) dataset\n"
   ]
  },
  {
   "cell_type": "code",
   "execution_count": 552,
   "id": "47024532",
   "metadata": {},
   "outputs": [],
   "source": [
    "import numpy as np\n",
    "from matplotlib import pyplot as plt\n",
    "\n",
    "\n",
    "\n",
    "def loadData(fileName, dataLen):\n",
    "    \"\"\"\n",
    "    loads a file.data into a numpy array\n",
    "    filename: string\n",
    "    dataLen: int\n",
    "    \n",
    "    return: \n",
    "    dataSetInput: n x n numpy ndarray every row represents a stream of input\n",
    "    dataSetClass: n x 1 numpy ndarray\n",
    "\n",
    "    \"\"\"\n",
    "\n",
    "\n",
    "\n",
    "    file = open(fileName, 'rb')\n",
    "    data = [row.decode('utf-8').split(',') for row in file]\n",
    "    file.close()\n",
    "\n",
    "    data= data[:dataLen]\n",
    "\n",
    "    #data input ---> x\n",
    "    data_in = [row[:-1] for row in data]\n",
    "    dataSetInput = np.array(data_in, dtype=float)\n",
    "\n",
    "    #data classes ---> groud truth\n",
    "    data_class = [row[-1][:-1] for row in data]\n",
    "    dataSetClass = np.array(data_class)\n",
    "    \n",
    "    return dataSetInput, dataSetClass\n",
    "\n",
    "\n",
    "\n",
    "dataSetInput,dataSetClass = loadData('iris-data/iris.data', 150)\n"
   ]
  },
  {
   "cell_type": "markdown",
   "id": "673b5c7b",
   "metadata": {},
   "source": [
    "# Normalize the data"
   ]
  },
  {
   "cell_type": "code",
   "execution_count": 553,
   "id": "d069cbc6",
   "metadata": {},
   "outputs": [
    {
     "name": "stdout",
     "output_type": "stream",
     "text": [
      "mean:  [5.84333333 3.054      3.75866667 1.19866667]\n",
      "std:  [0.82530129 0.43214658 1.75852918 0.76061262]\n"
     ]
    },
    {
     "data": {
      "image/png": "[encoded data removed]",
      "text/plain": [
       "<Figure size 432x288 with 1 Axes>"
      ]
     },
     "metadata": {
      "needs_background": "light"
     },
     "output_type": "display_data"
    },
    {
     "data": {
      "image/png": "[encoded data removed]",
      "text/plain": [
       "<Figure size 432x288 with 1 Axes>"
      ]
     },
     "metadata": {
      "needs_background": "light"
     },
     "output_type": "display_data"
    }
   ],
   "source": [
    "def normalizeData(dataSetInput, plot=False):\n",
    "    \"\"\"\n",
    "    subtracting mean and dviding by the std\n",
    "    \n",
    "     dataSetInput: n x n numpy ndarray every row represents a stream of input\n",
    "     plot: bolean weather to show plot or not\n",
    "\n",
    "    \"\"\"\n",
    "\n",
    "    mean = np.mean(dataSetInput, axis=0)\n",
    "    std = np.std(dataSetInput, axis=0)\n",
    "    print ('mean: ', mean)\n",
    "    print ('std: ', std)\n",
    "\n",
    "\n",
    "    if plot: \n",
    "        plt.plot(np.transpose(dataSetInput)[0], np.transpose(dataSetInput)[1], 'bo')\n",
    "        plt.xlabel('x1')\n",
    "        plt.ylabel('x2')\n",
    "        plt.grid(True)\n",
    "        plt.title(\"before normalization\")\n",
    "        plt.show()\n",
    "\n",
    "    # normalizing the data\n",
    "    dataSetInput -= mean\n",
    "    dataSetInput /= std\n",
    "    \n",
    "    if plot:\n",
    "        plt.plot(np.transpose(dataSetInput)[0], np.transpose(dataSetInput)[1], 'bo')\n",
    "        plt.xlabel('x1')\n",
    "        plt.ylabel('x2')\n",
    "        plt.grid(True)\n",
    "        plt.title(\"After normalization\")\n",
    "        plt.show()\n",
    "\n",
    "# test \n",
    "# x = np.array([[1., 2], [3, 4], [5, 6], [7, 8]])\n",
    "# normalizeData(x, True)\n",
    "# print(x)\n",
    "\n",
    "normalizeData(dataSetInput, True) #our data is normalized"
   ]
  },
  {
   "cell_type": "markdown",
   "id": "c1a47121",
   "metadata": {},
   "source": [
    "# generating true ouput"
   ]
  },
  {
   "cell_type": "code",
   "execution_count": 554,
   "id": "a53fb07e",
   "metadata": {},
   "outputs": [],
   "source": [
    "def generateOuput(class_l, dataSetClass):\n",
    "    '''\n",
    "    converts class names into vecor\n",
    "    example: \"classX\" => [1, 0, 0, 0]\n",
    "    class_l: list of strings of the name of the classes\n",
    "    dataSetClass: numpy column vector of strings\n",
    "    \n",
    "    returns: a numpy matrix len(dataSetClas) x len(class_l)\n",
    "    '''\n",
    "    \n",
    "    class_d = {}\n",
    "    dataSetOutput = np.zeros((dataSetClass.shape[0], len(class_l)))\n",
    "    \n",
    "    for i in range(len(class_l)):\n",
    "        class_d[class_l[i]] = i\n",
    "        \n",
    "    \n",
    "    for i in range(len(dataSetClass)):\n",
    "        c = dataSetClass[i]\n",
    "        true_i = class_d[c]\n",
    "        dataSetOutput[i][true_i] =1\n",
    "\n",
    "    return dataSetOutput\n",
    "    \n",
    "dataSetOutput =generateOuput([\"Iris-setosa\", \"Iris-versicolor\", \"Iris-virginica\"], dataSetClass)\n",
    "    "
   ]
  },
  {
   "cell_type": "markdown",
   "id": "4749997a",
   "metadata": {},
   "source": [
    "# Adding Bias"
   ]
  },
  {
   "cell_type": "code",
   "execution_count": 555,
   "id": "ad1e9213",
   "metadata": {},
   "outputs": [],
   "source": [
    "dataSetInput = np.append(dataSetInput, np.transpose([ np.ones(dataSetInput.shape[0]) ]), axis=1)\n",
    "# testing \n",
    "# l = [[1, 2], [3, 4]]\n",
    "# l = np.array(l)\n",
    "# one = np.ones(l.shape[0])\n",
    "# out = np.append(l, np.transpose([one]), axis=1)\n",
    "# print(out)"
   ]
  },
  {
   "cell_type": "markdown",
   "id": "863e10f3",
   "metadata": {},
   "source": [
    "# Split in train and test"
   ]
  },
  {
   "cell_type": "code",
   "execution_count": 556,
   "id": "61bddaec",
   "metadata": {},
   "outputs": [
    {
     "name": "stdout",
     "output_type": "stream",
     "text": [
      "(65, 5)\n",
      "(85, 5)\n",
      "(65, 3)\n",
      "(85, 3)\n"
     ]
    }
   ],
   "source": [
    "# split into train and test\n",
    "rand = np.random.rand(150) \n",
    "\n",
    "#inputs\n",
    "dataSetTestInput = dataSetInput[rand > .5]\n",
    "dataSetInput = dataSetInput[rand <= .5]\n",
    "\n",
    "#output\n",
    "dataSetTestOutput = dataSetOutput[rand > .5]\n",
    "dataSetOutput = dataSetOutput[rand <= .5]\n",
    "\n",
    "print(dataSetTestInput.shape)\n",
    "print(dataSetInput.shape)\n",
    "\n",
    "print(dataSetTestOutput.shape)\n",
    "print(dataSetOutput.shape)\n",
    "\n",
    "\n"
   ]
  },
  {
   "cell_type": "markdown",
   "id": "a0cb1b80",
   "metadata": {},
   "source": [
    "# Activation Functions"
   ]
  },
  {
   "cell_type": "code",
   "execution_count": 557,
   "id": "fdf7e451",
   "metadata": {},
   "outputs": [],
   "source": [
    "#activation function \n",
    "act = {'leakRelu': lambda x:np.maximum(.001*x, x),\n",
    "       'tanch': lambda x:np.tanh(x),\n",
    "        'sigmoid': lambda x:np.transpose(np.exp(x).T/np.sum(np.exp(x), axis=1))}\n",
    "\n",
    "\n",
    "def leekRelyDrevative(x, leak):\n",
    "    if len(x.shape) != 1:\n",
    "        x_vec = x.reshape(x.shape[0]*x.shape[1])\n",
    "    else:\n",
    "        x_vec = x\n",
    "\n",
    "    y = []\n",
    "    for i in range(len(x_vec)):\n",
    "        if x_vec[i] >0:\n",
    "            y.append(1)\n",
    "            \n",
    "        elif x_vec[i]<0:\n",
    "            y.append(leak)\n",
    "            \n",
    "        else:\n",
    "            y.append(0)\n",
    "\n",
    "    y = np.array(y)\n",
    "    return y.reshape(x.shape)\n",
    "\n",
    "\n",
    "actDrevative = {'leakRelu':lambda x: leekRelyDrevative(x, .001),\n",
    "       'tanch': lambda x:np.tanh(x),\n",
    "        'sigmoid': lambda x: act['sigmoid'](x)*(1-act['sigmoid'](x))}\n",
    "\n",
    "# Test\n",
    "# x = np.array([1, 2, 3, 4, -10])\n",
    "# y = actDrevative['leakRelu'](x)\n",
    "# print(x)\n",
    "# print(y)\n"
   ]
  },
  {
   "cell_type": "markdown",
   "id": "a34695e1",
   "metadata": {},
   "source": [
    "# Defining  hidden layers"
   ]
  },
  {
   "cell_type": "code",
   "execution_count": 558,
   "id": "c28b120c",
   "metadata": {},
   "outputs": [
    {
     "name": "stdout",
     "output_type": "stream",
     "text": [
      "W.shape= (5, 10)\n"
     ]
    },
    {
     "data": {
      "image/png": "[encoded data removed]",
      "text/plain": [
       "<Figure size 432x288 with 1 Axes>"
      ]
     },
     "metadata": {
      "needs_background": "light"
     },
     "output_type": "display_data"
    },
    {
     "data": {
      "image/png": "[encoded data removed]",
      "text/plain": [
       "<Figure size 432x288 with 1 Axes>"
      ]
     },
     "metadata": {
      "needs_background": "light"
     },
     "output_type": "display_data"
    },
    {
     "name": "stdout",
     "output_type": "stream",
     "text": [
      "W.shape= (10, 3)\n"
     ]
    },
    {
     "data": {
      "image/png": "[encoded data removed]",
      "text/plain": [
       "<Figure size 432x288 with 1 Axes>"
      ]
     },
     "metadata": {
      "needs_background": "light"
     },
     "output_type": "display_data"
    },
    {
     "data": {
      "image/png": "[encoded data removed]",
      "text/plain": [
       "<Figure size 432x288 with 1 Axes>"
      ]
     },
     "metadata": {
      "needs_background": "light"
     },
     "output_type": "display_data"
    }
   ],
   "source": [
    "#init weights \n",
    "hiddenLayerSizes = [10, 3]\n",
    "nonlinearities = ['leakRelu']*(len(hiddenLayerSizes)-1) + ['sigmoid']\n",
    "weights = []\n",
    "\n",
    "\n",
    "\n",
    "#forward path\n",
    "Hsaved = {}\n",
    "for i in range (len(hiddenLayerSizes)): \n",
    "    X = dataSetInput if i==0 else Hsaved[i-1] \n",
    "    fan_in = X.shape[1] \n",
    "    fan_out = hiddenLayerSizes[i] #selecting the size of the hidden layer \n",
    "    W = np.random.randn(fan_in, fan_out) / np.sqrt(fan_in/2) \n",
    "    weights.append(W)  #saving weights\n",
    "    print (\"W.shape=\", W.shape)\n",
    "    \n",
    "    H = np.matmul(X, W) #matrix multplixation\n",
    "   \n",
    "    plt.plot(H, 'bo')\n",
    "    plt.grid(True)\n",
    "    plt.title(\"before activation\")\n",
    "    plt.show()\n",
    "\n",
    "    H = act[nonlinearities[i]](H)  #applying activation function \n",
    "    \n",
    "    \n",
    "    plt.plot(H, 'bo')\n",
    "    plt.grid(True)\n",
    "    plt.title(\"after actiavation\")\n",
    "    plt.show()\n",
    "    \n",
    "    Hsaved[i] = H # saveing resluts to use it to the next loop\n",
    "\n"
   ]
  },
  {
   "cell_type": "markdown",
   "id": "73c9ddd6",
   "metadata": {},
   "source": [
    "# loss function [cross Entropy](https://gist.github.com/Atlas7/22372a4f6b0846cfc3797766d7b529e8)"
   ]
  },
  {
   "cell_type": "code",
   "execution_count": 559,
   "id": "fbc1ccdb",
   "metadata": {},
   "outputs": [],
   "source": [
    "# loass function \n",
    "def my_log(x):\n",
    "    y = np.zeros(x.shape)\n",
    "    \n",
    "    if len(x.shape) == 1:\n",
    "        for i in range(x.shape[0]):\n",
    "            if x[i] != 0:\n",
    "                y[i] = np.log(x[i])\n",
    "    else:\n",
    "        for i in range(x.shape[0]):\n",
    "            for j in range(x.shape[1]):\n",
    "                if x[i][j] != 0:\n",
    "                    y[i][j] = np.log(x[i][j])\n",
    "    return y\n",
    "\n",
    "#test\n",
    "# print(my_log(np.array([3, 4, 0])))\n",
    "\n",
    "\n",
    "def crossEntropyLoss(trueY, predictY):\n",
    "                    \n",
    "    loss=-(1.0/trueY.shape[0])* np.sum(trueY*my_log(predictY) + (1-trueY)*my_log(1-predictY))\n",
    "    \n",
    "    return loss\n",
    "#test\n",
    "# print(crossEntropyLoss(dataSetOutput[:2], np.array([[1, 0, 0], [.3, .4, 0]])))\n",
    "\n",
    "\n",
    "#loss dervative\n",
    "def crossEntropyLossDrvative(trueY, predictY):\n",
    "    d= -(1.0/trueY.shape[0])* (trueY/predictY - (1-trueY)/(1-predictY))\n",
    "    return d\n",
    "\n",
    "# test\n",
    "# print(\"test loss dervative:\", crossEntropyLossDrvative(np.array([[1, 0, 0], [0, 1, 0]]), np.array([[.2, .7, 0.1], [.3, .4, .3]])) )   "
   ]
  },
  {
   "cell_type": "markdown",
   "id": "f839e2eb",
   "metadata": {},
   "source": [
    "# Forward Path"
   ]
  },
  {
   "cell_type": "code",
   "execution_count": 560,
   "id": "2118a271",
   "metadata": {},
   "outputs": [
    {
     "name": "stdout",
     "output_type": "stream",
     "text": [
      "flow[ 0 ]= [[-1.50652052  0.10644536 -1.2844067  -1.31297673  1.        ]]\n",
      "flow[ 0 ]= (85, 5)\n",
      "flow[ 1 ]= [[ 0.42443617 -0.32198714 -0.06627027 -1.47776211 -2.30994287  1.85347441\n",
      "   2.73993865  0.64211453 -1.21907114 -2.26460021]]\n",
      "flow[ 1 ]= (85, 10)\n",
      "flow[ 2 ]= [[ 4.24436165e-01 -3.21987138e-04 -6.62702687e-05 -1.47776211e-03\n",
      "  -2.30994287e-03  1.85347441e+00  2.73993865e+00  6.42114533e-01\n",
      "  -1.21907114e-03 -2.26460021e-03]]\n",
      "flow[ 2 ]= (85, 10)\n",
      "flow[ 3 ]= [[-0.59362775 -0.7564909   1.7970082 ]]\n",
      "flow[ 3 ]= (85, 3)\n",
      "flow[ 4 ]= [[0.07830765 0.0665386  0.85515375]]\n",
      "flow[ 4 ]= (85, 3)\n"
     ]
    }
   ],
   "source": [
    "#forward path\n",
    "def forward(dataInput, plot=False, debug=False):\n",
    "    outputFlow_list = []\n",
    "    outputFlow_list.append(dataInput)\n",
    "    \n",
    "    for i in range (len(hiddenLayerSizes)): \n",
    "        X = outputFlow_list[-1] \n",
    "        W = weights[i]\n",
    "        \n",
    "        H = np.matmul(X, W) #matrix multplixation\n",
    "        if debug:\n",
    "            print(\"X: \", X.shape, \", W:\", W.shape, \" =H.shape=\", H.shape)\n",
    "        outputFlow_list.append(H)\n",
    "\n",
    "        if plot:\n",
    "            plt.plot(H, 'bo')\n",
    "            plt.grid(True)\n",
    "            plt.title(\"before activation\")\n",
    "            plt.show()\n",
    "\n",
    "        H = act[nonlinearities[i]](H)  #applying activation function \n",
    "        if debug:\n",
    "            print(\"after activation H: \",H.shape)\n",
    "        outputFlow_list.append(H) # saveing resluts to use it to the next loop\n",
    "\n",
    "        if plot:\n",
    "            plt.plot(H, 'bo')\n",
    "            plt.grid(True)\n",
    "            plt.title(\"after actiavation\")\n",
    "            plt.show()\n",
    "\n",
    "        \n",
    "    \n",
    "    return outputFlow_list\n",
    "\n",
    "# test loop\n",
    "outputFlow_list = forward(dataSetInput)\n",
    "for i in range(len(outputFlow_list)): \n",
    "    print(\"flow[\", i, ']=', outputFlow_list[i][:1])\n",
    "    print(\"flow[\", i, ']=', outputFlow_list[i].shape)"
   ]
  },
  {
   "cell_type": "markdown",
   "id": "669e9ac6",
   "metadata": {},
   "source": [
    "# BackPropagation"
   ]
  },
  {
   "cell_type": "code",
   "execution_count": 561,
   "id": "096b5901",
   "metadata": {},
   "outputs": [],
   "source": [
    "# back brobagation\n",
    "def backpropagationDetailed(lr, outputFlow_list, debug=False):\n",
    "    derv = None # the variable that will hold the chain rule product \n",
    "    y_hat = outputFlow_list[-1] # the output of our netwok\n",
    "    \n",
    "    #1- loss dervative\n",
    "    drev = crossEntropyLossDrvative(dataSetOutput, y_hat)\n",
    "    if debug:\n",
    "        print(\"1- dervative = \",drev.shape, drev[:1] )\n",
    "        print()\n",
    "    \n",
    "    #2- sigmoid\n",
    "    yBeforeSig  = outputFlow_list[-2]\n",
    "    sigmoidDrev = actDrevative['sigmoid'](yBeforeSig) # 150 x 3\n",
    "    drev = drev * sigmoidDrev\n",
    "    if debug:\n",
    "        print(\"2- dervative = \",drev.shape, drev[:1] )\n",
    "        print(\"y-sigmoidDrev-inupt=\", yBeforeSig[:1])\n",
    "        print(\"y-sigmoidDrev-output=\", sigmoidDrev[:1])\n",
    "        print()\n",
    "\n",
    "\n",
    "    \n",
    "    # 3- hidden layer (gradient)\n",
    "    grad_step = np.matmul(np.transpose(outputFlow_list[-3]), drev) # (10 x 150) (150 x 3) = (10 x 3)\n",
    "    weights[-1] -= lr * grad_step\n",
    "    if debug:\n",
    "        print(\"grad-step= \",grad_step.shape, grad_step[:1])\n",
    "    \n",
    "    drev = np.matmul(drev, np.transpose(weights[-1])) # (150 x 3) (3 x 10) = (150 x 10)\n",
    "    if debug:\n",
    "        print(\"3- dervative = \",drev.shape, drev[:1] )\n",
    "        print()\n",
    "\n",
    "    \n",
    "    #4- reulu\n",
    "    reluDev = actDrevative['leakRelu'](outputFlow_list[-4])  # 150 x 10\n",
    "#     reluDev = np.random.rand(150, 10)\n",
    "    drev = drev * reluDev # elemet wise product\n",
    "    if debug:\n",
    "        print(\"reludev input=\", outputFlow_list[-4][:1])\n",
    "        print(\"reludev output\", reluDev[:1])\n",
    "        print(\"4- drevative = \",drev.shape, drev[:1] )\n",
    "        print()\n",
    "\n",
    "    \n",
    "    #4- layer 1 output (gradient)\n",
    "    grad_step = np.matmul(np.transpose(outputFlow_list[-5]), drev) # x(5 x 150) (150 x 10) = (5 x 10)\n",
    "    weights[-2] -= lr * grad_step\n",
    "    if debug:\n",
    "        print(\"grad-step= \",grad_step.shape, grad_step[:1])\n",
    "        \n",
    "    drev = np.matmul(drev, np.transpose(weights[-2])) # (150 x 10) (10 x 4) = (150 x 4)\n",
    "                                                      # for the bias and gradient of the input\n",
    "    if debug:\n",
    "        print(\"5- dervative = \",drev.shape, drev[:1] )\n",
    "\n",
    "    \n",
    "    \n",
    "    "
   ]
  },
  {
   "cell_type": "markdown",
   "id": "054ce901",
   "metadata": {},
   "source": [
    "# Generic backpropagation"
   ]
  },
  {
   "cell_type": "code",
   "execution_count": 562,
   "id": "cfb870d6",
   "metadata": {},
   "outputs": [],
   "source": [
    "# back brobagation\n",
    "def backpropagationGeneric(lr, outputFlow_list, debug=False):\n",
    "    derv = None # the variable that will hold the chain rule product \n",
    "    backIndex = -1\n",
    "    y_hat = outputFlow_list[backIndex] # the output of our netwok\n",
    "    \n",
    "    #1- loss dervative\n",
    "    drev = crossEntropyLossDrvative(dataSetOutput, y_hat)\n",
    "    if debug:\n",
    "        print(\"1- dervative (loss) = \",drev.shape, drev[:1] )\n",
    "        print()\n",
    "    \n",
    "    # looping over all hidden layers\n",
    "    for i in range(len(hiddenLayerSizes)-1, -1, -1):\n",
    "        # 1- activation\n",
    "        backIndex -= 1\n",
    "        beforeActivaion  = outputFlow_list[backIndex]\n",
    "        activationDrev = actDrevative[nonlinearities[i]](beforeActivaion) # 150 x 3\n",
    "        drev = drev * activationDrev\n",
    "        if debug:\n",
    "            print(\"1- dervative = \",drev.shape, drev[:1] )\n",
    "            print(\"y-before-activation=\", beforeActivaion[:1])\n",
    "            print(\"y-activation-dervative=\", activationDrev[:1])\n",
    "            print()     \n",
    "        \n",
    "        # 2- grad\n",
    "        backIndex -= 1\n",
    "        X = outputFlow_list[backIndex]\n",
    "        grad_step = np.matmul(np.transpose(X), drev) # (10 x 150) (150 x 3) = (10 x 3)\n",
    "        weights[i] -= lr * grad_step\n",
    "        if debug:\n",
    "            print(\"2- grad-step= \",grad_step.shape, grad_step[:1])\n",
    "\n",
    "        \n",
    "        # 3 drev throw the path\n",
    "        drev = np.matmul(drev, np.transpose(weights[i])) # (150 x 3) (3 x 10) = (150 x 10)\n",
    "        if debug:\n",
    "            print(\"3- dervative = \",drev.shape, drev[:1] )\n",
    "            print()\n",
    "\n",
    "    \n",
    "    \n"
   ]
  },
  {
   "cell_type": "markdown",
   "id": "06761f67",
   "metadata": {},
   "source": [
    "# Testing "
   ]
  },
  {
   "cell_type": "code",
   "execution_count": 563,
   "id": "f031fb5b",
   "metadata": {},
   "outputs": [],
   "source": [
    "# evaluating test\n",
    "\n",
    "def test(trueY, predictY, dataSetClass=1):\n",
    "    \"\"\"\n",
    "    performing test and returns the accuracy of the data\n",
    "    TODO return class names\n",
    "    \"\"\"\n",
    "    predictIndex = np.argmax(predictY, axis=1) #along rows\n",
    "\n",
    "    truePredicts =0\n",
    "    counter =0\n",
    "    for i in predictIndex:\n",
    "        if trueY[counter][i] == 1:\n",
    "            truePredicts +=1\n",
    "        counter +=1\n",
    "    return truePredicts/trueY.shape[0]\n",
    "\n"
   ]
  },
  {
   "cell_type": "markdown",
   "id": "f6def989",
   "metadata": {},
   "source": [
    "# Train"
   ]
  },
  {
   "cell_type": "code",
   "execution_count": 567,
   "id": "4596499a",
   "metadata": {},
   "outputs": [],
   "source": [
    "lossL = []\n",
    "scoreL = []\n",
    "def train(epochs, lr):\n",
    "   \n",
    "    for i in range(epochs):\n",
    "        #forward\n",
    "        outputFlow_list = forward(dataSetInput)\n",
    "\n",
    "        #loss calculations\n",
    "        loss = crossEntropyLoss(dataSetOutput, outputFlow_list[-1])\n",
    "        lossL.append(loss)\n",
    "        \n",
    "        \n",
    "        #backpropagation\n",
    "#         backpropagationDetailed(lr, outputFlow_list, debug=False)\n",
    "        backpropagationGeneric(lr, outputFlow_list, debug=False)\n",
    "\n",
    "        \n",
    "        # TESTING\n",
    "        #forward\n",
    "        print(dataSetTestInput.shape)\n",
    "        outputFlow_list = forward(dataSetTestInput)\n",
    "        print(outputFlow_list[-1].shape, dataSetTestOuput.shape)\n",
    "        \n",
    "        # test loop\n",
    "        outputFlow_list = forward(dataSetInput)\n",
    "        #evaluationg score\n",
    "        score = test(dataSetTestOuput, outputFlow_list[-1])\n",
    "        scoreL.append(score)\n",
    "    \n",
    "\n",
    "        \n",
    "        print(\"Epoch: \",i, \", Loss=\", loss, \", Score=\", score )\n",
    "        "
   ]
  },
  {
   "cell_type": "code",
   "execution_count": 568,
   "id": "f8c7136d",
   "metadata": {},
   "outputs": [
    {
     "name": "stdout",
     "output_type": "stream",
     "text": [
      "(65, 5)\n",
      "(65, 3) (77, 3)\n"
     ]
    },
    {
     "ename": "IndexError",
     "evalue": "index 77 is out of bounds for axis 0 with size 77",
     "output_type": "error",
     "traceback": [
      "\u001b[0;31m---------------------------------------------------------------------------\u001b[0m",
      "\u001b[0;31mIndexError\u001b[0m                                Traceback (most recent call last)",
      "\u001b[0;32m/tmp/ipykernel_15001/2993734772.py\u001b[0m in \u001b[0;36m<module>\u001b[0;34m\u001b[0m\n\u001b[0;32m----> 1\u001b[0;31m \u001b[0mtrain\u001b[0m\u001b[0;34m(\u001b[0m\u001b[0;36m1000\u001b[0m\u001b[0;34m,\u001b[0m \u001b[0;36m.01\u001b[0m\u001b[0;34m)\u001b[0m\u001b[0;34m\u001b[0m\u001b[0;34m\u001b[0m\u001b[0m\n\u001b[0m\u001b[1;32m      2\u001b[0m \u001b[0;34m\u001b[0m\u001b[0m\n",
      "\u001b[0;32m/tmp/ipykernel_15001/1155296200.py\u001b[0m in \u001b[0;36mtrain\u001b[0;34m(epochs, lr)\u001b[0m\n\u001b[1;32m     26\u001b[0m         \u001b[0moutputFlow_list\u001b[0m \u001b[0;34m=\u001b[0m \u001b[0mforward\u001b[0m\u001b[0;34m(\u001b[0m\u001b[0mdataSetInput\u001b[0m\u001b[0;34m)\u001b[0m\u001b[0;34m\u001b[0m\u001b[0;34m\u001b[0m\u001b[0m\n\u001b[1;32m     27\u001b[0m         \u001b[0;31m#evaluationg score\u001b[0m\u001b[0;34m\u001b[0m\u001b[0;34m\u001b[0m\u001b[0m\n\u001b[0;32m---> 28\u001b[0;31m         \u001b[0mscore\u001b[0m \u001b[0;34m=\u001b[0m \u001b[0mtest\u001b[0m\u001b[0;34m(\u001b[0m\u001b[0mdataSetTestOuput\u001b[0m\u001b[0;34m,\u001b[0m \u001b[0moutputFlow_list\u001b[0m\u001b[0;34m[\u001b[0m\u001b[0;34m-\u001b[0m\u001b[0;36m1\u001b[0m\u001b[0;34m]\u001b[0m\u001b[0;34m)\u001b[0m\u001b[0;34m\u001b[0m\u001b[0;34m\u001b[0m\u001b[0m\n\u001b[0m\u001b[1;32m     29\u001b[0m         \u001b[0mscoreL\u001b[0m\u001b[0;34m.\u001b[0m\u001b[0mappend\u001b[0m\u001b[0;34m(\u001b[0m\u001b[0mscore\u001b[0m\u001b[0;34m)\u001b[0m\u001b[0;34m\u001b[0m\u001b[0;34m\u001b[0m\u001b[0m\n\u001b[1;32m     30\u001b[0m \u001b[0;34m\u001b[0m\u001b[0m\n",
      "\u001b[0;32m/tmp/ipykernel_15001/1791323852.py\u001b[0m in \u001b[0;36mtest\u001b[0;34m(trueY, predictY, dataSetClass)\u001b[0m\n\u001b[1;32m     11\u001b[0m     \u001b[0mcounter\u001b[0m \u001b[0;34m=\u001b[0m\u001b[0;36m0\u001b[0m\u001b[0;34m\u001b[0m\u001b[0;34m\u001b[0m\u001b[0m\n\u001b[1;32m     12\u001b[0m     \u001b[0;32mfor\u001b[0m \u001b[0mi\u001b[0m \u001b[0;32min\u001b[0m \u001b[0mpredictIndex\u001b[0m\u001b[0;34m:\u001b[0m\u001b[0;34m\u001b[0m\u001b[0;34m\u001b[0m\u001b[0m\n\u001b[0;32m---> 13\u001b[0;31m         \u001b[0;32mif\u001b[0m \u001b[0mtrueY\u001b[0m\u001b[0;34m[\u001b[0m\u001b[0mcounter\u001b[0m\u001b[0;34m]\u001b[0m\u001b[0;34m[\u001b[0m\u001b[0mi\u001b[0m\u001b[0;34m]\u001b[0m \u001b[0;34m==\u001b[0m \u001b[0;36m1\u001b[0m\u001b[0;34m:\u001b[0m\u001b[0;34m\u001b[0m\u001b[0;34m\u001b[0m\u001b[0m\n\u001b[0m\u001b[1;32m     14\u001b[0m             \u001b[0mtruePredicts\u001b[0m \u001b[0;34m+=\u001b[0m\u001b[0;36m1\u001b[0m\u001b[0;34m\u001b[0m\u001b[0;34m\u001b[0m\u001b[0m\n\u001b[1;32m     15\u001b[0m         \u001b[0mcounter\u001b[0m \u001b[0;34m+=\u001b[0m\u001b[0;36m1\u001b[0m\u001b[0;34m\u001b[0m\u001b[0;34m\u001b[0m\u001b[0m\n",
      "\u001b[0;31mIndexError\u001b[0m: index 77 is out of bounds for axis 0 with size 77"
     ]
    }
   ],
   "source": [
    "train(1000, .01)\n",
    "\n"
   ]
  },
  {
   "cell_type": "code",
   "execution_count": 569,
   "id": "1aa2f600",
   "metadata": {},
   "outputs": [
    {
     "data": {
      "image/png": "[encoded data removed]",
      "text/plain": [
       "<Figure size 432x288 with 1 Axes>"
      ]
     },
     "metadata": {
      "needs_background": "light"
     },
     "output_type": "display_data"
    },
    {
     "data": {
      "image/png": "[encoded data removed]",
      "text/plain": [
       "<Figure size 432x288 with 1 Axes>"
      ]
     },
     "metadata": {
      "needs_background": "light"
     },
     "output_type": "display_data"
    },
    {
     "ename": "ValueError",
     "evalue": "zero-size array to reduction operation maximum which has no identity",
     "output_type": "error",
     "traceback": [
      "\u001b[0;31m---------------------------------------------------------------------------\u001b[0m",
      "\u001b[0;31mValueError\u001b[0m                                Traceback (most recent call last)",
      "\u001b[0;32m/tmp/ipykernel_15001/1587541152.py\u001b[0m in \u001b[0;36m<module>\u001b[0;34m\u001b[0m\n\u001b[1;32m      9\u001b[0m \u001b[0mplt\u001b[0m\u001b[0;34m.\u001b[0m\u001b[0mshow\u001b[0m\u001b[0;34m(\u001b[0m\u001b[0;34m)\u001b[0m\u001b[0;34m\u001b[0m\u001b[0;34m\u001b[0m\u001b[0m\n\u001b[1;32m     10\u001b[0m \u001b[0;34m\u001b[0m\u001b[0m\n\u001b[0;32m---> 11\u001b[0;31m \u001b[0mprint\u001b[0m\u001b[0;34m(\u001b[0m\u001b[0;34m\"max-score=\"\u001b[0m\u001b[0;34m,\u001b[0m \u001b[0mnp\u001b[0m\u001b[0;34m.\u001b[0m\u001b[0mmax\u001b[0m\u001b[0;34m(\u001b[0m\u001b[0mscoreL\u001b[0m\u001b[0;34m)\u001b[0m\u001b[0;34m)\u001b[0m\u001b[0;34m\u001b[0m\u001b[0;34m\u001b[0m\u001b[0m\n\u001b[0m",
      "\u001b[0;32m<__array_function__ internals>\u001b[0m in \u001b[0;36mamax\u001b[0;34m(*args, **kwargs)\u001b[0m\n",
      "\u001b[0;32m~/anaconda3/lib/python3.9/site-packages/numpy/core/fromnumeric.py\u001b[0m in \u001b[0;36mamax\u001b[0;34m(a, axis, out, keepdims, initial, where)\u001b[0m\n\u001b[1;32m   2731\u001b[0m     \u001b[0;36m5\u001b[0m\u001b[0;34m\u001b[0m\u001b[0;34m\u001b[0m\u001b[0m\n\u001b[1;32m   2732\u001b[0m     \"\"\"\n\u001b[0;32m-> 2733\u001b[0;31m     return _wrapreduction(a, np.maximum, 'max', axis, None, out,\n\u001b[0m\u001b[1;32m   2734\u001b[0m                           keepdims=keepdims, initial=initial, where=where)\n\u001b[1;32m   2735\u001b[0m \u001b[0;34m\u001b[0m\u001b[0m\n",
      "\u001b[0;32m~/anaconda3/lib/python3.9/site-packages/numpy/core/fromnumeric.py\u001b[0m in \u001b[0;36m_wrapreduction\u001b[0;34m(obj, ufunc, method, axis, dtype, out, **kwargs)\u001b[0m\n\u001b[1;32m     85\u001b[0m                 \u001b[0;32mreturn\u001b[0m \u001b[0mreduction\u001b[0m\u001b[0;34m(\u001b[0m\u001b[0maxis\u001b[0m\u001b[0;34m=\u001b[0m\u001b[0maxis\u001b[0m\u001b[0;34m,\u001b[0m \u001b[0mout\u001b[0m\u001b[0;34m=\u001b[0m\u001b[0mout\u001b[0m\u001b[0;34m,\u001b[0m \u001b[0;34m**\u001b[0m\u001b[0mpasskwargs\u001b[0m\u001b[0;34m)\u001b[0m\u001b[0;34m\u001b[0m\u001b[0;34m\u001b[0m\u001b[0m\n\u001b[1;32m     86\u001b[0m \u001b[0;34m\u001b[0m\u001b[0m\n\u001b[0;32m---> 87\u001b[0;31m     \u001b[0;32mreturn\u001b[0m \u001b[0mufunc\u001b[0m\u001b[0;34m.\u001b[0m\u001b[0mreduce\u001b[0m\u001b[0;34m(\u001b[0m\u001b[0mobj\u001b[0m\u001b[0;34m,\u001b[0m \u001b[0maxis\u001b[0m\u001b[0;34m,\u001b[0m \u001b[0mdtype\u001b[0m\u001b[0;34m,\u001b[0m \u001b[0mout\u001b[0m\u001b[0;34m,\u001b[0m \u001b[0;34m**\u001b[0m\u001b[0mpasskwargs\u001b[0m\u001b[0;34m)\u001b[0m\u001b[0;34m\u001b[0m\u001b[0;34m\u001b[0m\u001b[0m\n\u001b[0m\u001b[1;32m     88\u001b[0m \u001b[0;34m\u001b[0m\u001b[0m\n\u001b[1;32m     89\u001b[0m \u001b[0;34m\u001b[0m\u001b[0m\n",
      "\u001b[0;31mValueError\u001b[0m: zero-size array to reduction operation maximum which has no identity"
     ]
    }
   ],
   "source": [
    "plt.plot(lossL)\n",
    "plt.grid(True)\n",
    "plt.title(\"Loss Function\")\n",
    "plt.show()\n",
    "\n",
    "plt.plot(scoreL)\n",
    "plt.grid(True)\n",
    "plt.title(\"Score\")\n",
    "plt.show()\n",
    "\n",
    "print(\"max-score=\", np.max(scoreL))\n"
   ]
  }
 ],
 "metadata": {
  "kernelspec": {
   "display_name": "Python 3 (ipykernel)",
   "language": "python",
   "name": "python3"
  },
  "language_info": {
   "codemirror_mode": {
    "name": "ipython",
    "version": 3
   },
   "file_extension": ".py",
   "mimetype": "text/x-python",
   "name": "python",
   "nbconvert_exporter": "python",
   "pygments_lexer": "ipython3",
   "version": "3.9.7"
  }
 },
 "nbformat": 4,
 "nbformat_minor": 5
}
