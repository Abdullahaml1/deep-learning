{
 "cells": [
  {
   "cell_type": "markdown",
   "id": "70b5f1b2",
   "metadata": {},
   "source": [
    "# Simple Implementation of [Iris](https://archive.ics.uci.edu/ml/datasets/Iris) dataset\n"
   ]
  },
  {
   "cell_type": "code",
   "execution_count": 3,
   "id": "47024532",
   "metadata": {},
   "outputs": [],
   "source": [
    "import numpy as np\n",
    "from matplotlib import pyplot as plt\n",
    "\n",
    "\n",
    "\n",
    "def loadData(fileName, dataLen):\n",
    "    \"\"\"\n",
    "    loads a file.data into a numpy array\n",
    "    filename: string\n",
    "    dataLen: int\n",
    "    \n",
    "    return: \n",
    "    dataSetInput: n x n numpy ndarray every row represents a stream of input\n",
    "    dataSetClass: n x 1 numpy ndarray\n",
    "\n",
    "    \"\"\"\n",
    "\n",
    "\n",
    "\n",
    "    file = open(fileName, 'rb')\n",
    "    data = [row.decode('utf-8').split(',') for row in file]\n",
    "    file.close()\n",
    "\n",
    "    data= data[:dataLen]\n",
    "\n",
    "    #data input ---> x\n",
    "    data_in = [row[:-1] for row in data]\n",
    "    dataSetInput = np.array(data_in, dtype=float)\n",
    "\n",
    "    #data classes ---> groud truth\n",
    "    data_class = [row[-1][:-1] for row in data]\n",
    "    dataSetClass = np.array(data_class)\n",
    "    \n",
    "    return dataSetInput, dataSetClass\n",
    "\n",
    "\n",
    "\n",
    "dataSetInput,dataSetClass = loadData('iris-data/iris.data', 150)\n"
   ]
  },
  {
   "cell_type": "markdown",
   "id": "673b5c7b",
   "metadata": {},
   "source": [
    "# Normalize the data"
   ]
  },
  {
   "cell_type": "code",
   "execution_count": 4,
   "id": "d069cbc6",
   "metadata": {},
   "outputs": [
    {
     "name": "stdout",
     "output_type": "stream",
     "text": [
      "mean:  [5.84333333 3.054      3.75866667 1.19866667]\n",
      "std:  [0.82530129 0.43214658 1.75852918 0.76061262]\n"
     ]
    },
    {
     "data": {
      "image/png": "[encoded data removed]",
      "text/plain": [
       "<Figure size 432x288 with 1 Axes>"
      ]
     },
     "metadata": {
      "needs_background": "light"
     },
     "output_type": "display_data"
    },
    {
     "data": {
      "image/png": "[encoded data removed]",
      "text/plain": [
       "<Figure size 432x288 with 1 Axes>"
      ]
     },
     "metadata": {
      "needs_background": "light"
     },
     "output_type": "display_data"
    }
   ],
   "source": [
    "def normalizeData(dataSetInput, plot=False):\n",
    "    \"\"\"\n",
    "    subtracting mean and dviding by the std\n",
    "    \n",
    "     dataSetInput: n x n numpy ndarray every row represents a stream of input\n",
    "     plot: bolean weather to show plot or not\n",
    "\n",
    "    \"\"\"\n",
    "\n",
    "    mean = np.mean(dataSetInput, axis=0)\n",
    "    std = np.std(dataSetInput, axis=0)\n",
    "    print ('mean: ', mean)\n",
    "    print ('std: ', std)\n",
    "\n",
    "\n",
    "    if plot: \n",
    "        plt.plot(np.transpose(dataSetInput)[0], np.transpose(dataSetInput)[1], 'bo')\n",
    "        plt.xlabel('x1')\n",
    "        plt.ylabel('x2')\n",
    "        plt.grid(True)\n",
    "        plt.title(\"before normalization\")\n",
    "        plt.show()\n",
    "\n",
    "    # normalizing the data\n",
    "    dataSetInput -= mean\n",
    "    dataSetInput /= std\n",
    "    \n",
    "    if plot:\n",
    "        plt.plot(np.transpose(dataSetInput)[0], np.transpose(dataSetInput)[1], 'bo')\n",
    "        plt.xlabel('x1')\n",
    "        plt.ylabel('x2')\n",
    "        plt.grid(True)\n",
    "        plt.title(\"After normalization\")\n",
    "        plt.show()\n",
    "\n",
    "# test \n",
    "# x = np.array([[1., 2], [3, 4], [5, 6], [7, 8]])\n",
    "# normalizeData(x, True)\n",
    "# print(x)\n",
    "\n",
    "normalizeData(dataSetInput, True) #our data is normalized"
   ]
  },
  {
   "cell_type": "markdown",
   "id": "c1a47121",
   "metadata": {},
   "source": [
    "# generating true ouput"
   ]
  },
  {
   "cell_type": "code",
   "execution_count": 5,
   "id": "a53fb07e",
   "metadata": {},
   "outputs": [],
   "source": [
    "def generateOuput(class_l, dataSetClass):\n",
    "    '''\n",
    "    converts class names into vecor\n",
    "    example: \"classX\" => [1, 0, 0, 0]\n",
    "    class_l: list of strings of the name of the classes\n",
    "    dataSetClass: numpy column vector of strings\n",
    "    \n",
    "    returns: a numpy matrix len(dataSetClas) x len(class_l)\n",
    "    '''\n",
    "    \n",
    "    class_d = {}\n",
    "    dataSetOuput = np.zeros((dataSetClass.shape[0], len(class_l)))\n",
    "    \n",
    "    for i in range(len(class_l)):\n",
    "        class_d[class_l[i]] = i\n",
    "        \n",
    "    \n",
    "    for i in range(len(dataSetClass)):\n",
    "        c = dataSetClass[i]\n",
    "        true_i = class_d[c]\n",
    "        dataSetOuput[i][true_i] =1\n",
    "\n",
    "    return dataSetOuput\n",
    "    \n",
    "dataSetOuput =generateOuput([\"Iris-setosa\", \"Iris-versicolor\", \"Iris-virginica\"], dataSetClass)\n",
    "    "
   ]
  },
  {
   "cell_type": "markdown",
   "id": "a34695e1",
   "metadata": {},
   "source": [
    "# Defining a hidden layer"
   ]
  },
  {
   "cell_type": "code",
   "execution_count": 15,
   "id": "c28b120c",
   "metadata": {},
   "outputs": [
    {
     "name": "stdout",
     "output_type": "stream",
     "text": [
      "W.shape= (4, 10)\n"
     ]
    },
    {
     "data": {
      "image/png": "[encoded data removed]",
      "text/plain": [
       "<Figure size 432x288 with 1 Axes>"
      ]
     },
     "metadata": {
      "needs_background": "light"
     },
     "output_type": "display_data"
    },
    {
     "data": {
      "image/png": "[encoded data removed]",
      "text/plain": [
       "<Figure size 432x288 with 1 Axes>"
      ]
     },
     "metadata": {
      "needs_background": "light"
     },
     "output_type": "display_data"
    },
    {
     "name": "stdout",
     "output_type": "stream",
     "text": [
      "W.shape= (10, 3)\n"
     ]
    },
    {
     "data": {
      "image/png": "[encoded data removed]",
      "text/plain": [
       "<Figure size 432x288 with 1 Axes>"
      ]
     },
     "metadata": {
      "needs_background": "light"
     },
     "output_type": "display_data"
    },
    {
     "data": {
      "image/png": "[encoded data removed]",
      "text/plain": [
       "<Figure size 432x288 with 1 Axes>"
      ]
     },
     "metadata": {
      "needs_background": "light"
     },
     "output_type": "display_data"
    },
    {
     "name": "stdout",
     "output_type": "stream",
     "text": [
      "2\n"
     ]
    }
   ],
   "source": [
    "\n",
    "\n",
    "#activation function \n",
    "act = {'leakRelu': lambda x:np.maximum(.001*x, x),\n",
    "       'tanch': lambda x:np.tanh(x),\n",
    "        'sigmoid': lambda x:np.exp(x)/np.sum(np.exp(x))}\n",
    "\n",
    "\n",
    "actDrevative = {'leakRelu': lambda x:1 if x>0 else (0 if x==0 else .001) ,\n",
    "       'tanch': lambda x:np.tanh(x),\n",
    "        'sigmoid': lambda x: act['sigmoid'](x)*(1-act['sigmoid'](f))}\n",
    "\n",
    "\n",
    "\n",
    "#init weights \n",
    "hiddenLayerSizes = [10, 3]\n",
    "nonlinearities = ['leakRelu']*(len(hiddenLayerSizes)-1) + ['sigmoid']\n",
    "weights = []\n",
    "\n",
    "\n",
    "\n",
    "#forward path\n",
    "Hsaved = {}\n",
    "for i in range (len(hiddenLayerSizes)): \n",
    "    X = dataSetInput if i==0 else Hsaved[i-1] \n",
    "    fan_in = X.shape[1] \n",
    "    fan_out = hiddenLayerSizes[i] #selecting the size of the hidden layer \n",
    "    W = np.random.randn(fan_in, fan_out) / np.sqrt(fan_in/2) \n",
    "    weights.append(W)  #saving weights\n",
    "    print (\"W.shape=\", W.shape)\n",
    "    \n",
    "    H = np.matmul(X, W) #matrix multplixation\n",
    "   \n",
    "    plt.plot(H, 'bo')\n",
    "    plt.grid(True)\n",
    "    plt.title(\"before activation\")\n",
    "    plt.show()\n",
    "\n",
    "    H = act[nonlinearities[i]](H)  #applying activation function \n",
    "    \n",
    "    \n",
    "    plt.plot(H, 'bo')\n",
    "    plt.grid(True)\n",
    "    plt.title(\"after actiavation\")\n",
    "    plt.show()\n",
    "    \n",
    "    Hsaved[i] = H # saveing resluts to use it to the next loop\n",
    "\n",
    "# evaluating score\n",
    "\n",
    "print(len(weights))"
   ]
  },
  {
   "cell_type": "code",
   "execution_count": 10,
   "id": "f625abed",
   "metadata": {},
   "outputs": [],
   "source": [
    "# split into train and test"
   ]
  },
  {
   "cell_type": "markdown",
   "id": "73c9ddd6",
   "metadata": {},
   "source": [
    "# loss function [cross Entropy](https://gist.github.com/Atlas7/22372a4f6b0846cfc3797766d7b529e8)"
   ]
  },
  {
   "cell_type": "code",
   "execution_count": 34,
   "id": "fbc1ccdb",
   "metadata": {},
   "outputs": [
    {
     "name": "stdout",
     "output_type": "stream",
     "text": [
      "0.8573992140459634\n",
      "test loss dervative: [-1.78571429  0.41666667  1.26984127]\n"
     ]
    }
   ],
   "source": [
    "# loass function \n",
    "def my_log(x):\n",
    "    y = np.zeros(x.shape)\n",
    "    \n",
    "    if len(x.shape) == 1:\n",
    "        for i in range(x.shape[0]):\n",
    "            if x[i] != 0:\n",
    "                y[i] = np.log(x[i])\n",
    "    else:\n",
    "        for i in range(x.shape[0]):\n",
    "            for j in range(x.shape[1]):\n",
    "                if x[i][j] != 0:\n",
    "                    y[i][j] = np.log(x[i][j])\n",
    "    return y\n",
    "\n",
    "#test\n",
    "# print(my_log(np.array([3, 4, 0])))\n",
    "\n",
    "\n",
    "def crossEntropyLoss(trueY, predictY):\n",
    "                    \n",
    "    loss=-(1.0/trueY.shape[0])* np.sum(trueY*my_log(predictY) + (1-trueY)*my_log(1-predictY))\n",
    "    \n",
    "    return loss\n",
    "#test\n",
    "print(crossEntropyLoss(dataSetOuput[:2], np.array([[1, 0, 0], [.3, .4, 0]])))\n",
    "\n",
    "\n",
    "#loss dervative\n",
    "def crossEntropyLossDrvative(trueY, predictY):\n",
    "    d= -(1.0/trueY.shape[0])* np.sum(trueY/predictY - (1-trueY)/(1-predictY), axis=0)\n",
    "    return d\n",
    "    \n",
    "print(\"test loss dervative:\", crossEntropyLossDrvative(np.array([[1, 0, 0], [0, 1, 0]]), np.array([[.2, .7, 0.1], [.3, .4, .3]])) )   "
   ]
  },
  {
   "cell_type": "code",
   "execution_count": 24,
   "id": "2118a271",
   "metadata": {},
   "outputs": [
    {
     "data": {
      "text/plain": [
       "[array([[-1.06114317e-03,  1.68789892e+00, -4.95467605e-04, ...,\n",
       "          1.46903281e+00, -3.72198040e-04, -1.04742790e-03],\n",
       "        [-1.68633369e-03,  1.85870364e+00, -1.92033731e-03, ...,\n",
       "          1.54553007e+00, -9.28600640e-04, -1.32902277e-03],\n",
       "        [-1.47352099e-03,  1.84821535e+00, -1.55724779e-03, ...,\n",
       "          1.61515346e+00, -9.45876499e-04, -1.47609765e-03],\n",
       "        ...,\n",
       "        [ 1.06590566e+00, -1.00032456e-03,  1.18985814e+00, ...,\n",
       "         -1.06579423e-03,  8.38735112e-01,  8.35358981e-01],\n",
       "        [ 1.86435967e+00, -1.28316557e-03,  2.29979721e+00, ...,\n",
       "         -1.24645131e-03,  1.05899047e+00,  6.99035966e-01],\n",
       "        [ 8.77259960e-01, -1.08589492e-03,  5.63582855e-01, ...,\n",
       "         -7.75996643e-04,  3.64726409e-04,  3.34722432e-01]]),\n",
       " array([[1.10526760e-03, 5.24595579e-04, 6.68280752e-03],\n",
       "        [9.32959539e-04, 5.44461385e-04, 5.64943489e-03],\n",
       "        [9.85379114e-04, 5.30556369e-04, 6.25898684e-03],\n",
       "        [9.30916459e-04, 5.46256152e-04, 4.89569962e-03],\n",
       "        [1.20166139e-03, 5.10724893e-04, 7.47454795e-03],\n",
       "        [1.15123368e-03, 6.12957925e-04, 1.18722889e-02],\n",
       "        [1.15759278e-03, 5.11922844e-04, 7.37412572e-03],\n",
       "        [1.04972405e-03, 5.34920564e-04, 5.73258163e-03],\n",
       "        [9.37687679e-04, 5.35436705e-04, 5.63962723e-03],\n",
       "        [9.23652449e-04, 5.48908408e-04, 4.82583360e-03],\n",
       "        [1.12960178e-03, 5.51474734e-04, 7.40531882e-03],\n",
       "        [1.08392074e-03, 5.31026705e-04, 5.50006121e-03],\n",
       "        [9.34120121e-04, 5.39966990e-04, 5.47351372e-03],\n",
       "        [9.59605587e-04, 5.16037762e-04, 7.06132409e-03],\n",
       "        [1.07372286e-03, 5.87697118e-04, 2.26813452e-02],\n",
       "        [1.18026297e-03, 6.12171304e-04, 5.29108374e-02],\n",
       "        [1.18867634e-03, 5.64605830e-04, 1.85654451e-02],\n",
       "        [1.12512889e-03, 5.24428309e-04, 7.08015857e-03],\n",
       "        [1.03272545e-03, 6.08494870e-04, 9.47276698e-03],\n",
       "        [1.26211361e-03, 5.47059379e-04, 9.62206443e-03],\n",
       "        [9.63893330e-04, 5.64203426e-04, 4.30520088e-03],\n",
       "        [1.24318272e-03, 5.36469282e-04, 8.80621685e-03],\n",
       "        [1.32260144e-03, 4.74941719e-04, 1.19702411e-02],\n",
       "        [1.00777664e-03, 5.59643775e-04, 5.06775050e-03],\n",
       "        [1.06683306e-03, 5.46659353e-04, 4.16990167e-03],\n",
       "        [9.17408412e-04, 5.57618206e-04, 4.68392344e-03],\n",
       "        [1.08204288e-03, 5.39774590e-04, 5.86729254e-03],\n",
       "        [1.07908516e-03, 5.34209125e-04, 5.94058837e-03],\n",
       "        [1.01660624e-03, 5.38842976e-04, 5.97493208e-03],\n",
       "        [9.69844909e-04, 5.46175171e-04, 4.74528531e-03],\n",
       "        [9.15898032e-04, 5.56331971e-04, 4.45060041e-03],\n",
       "        [1.01131541e-03, 5.46364255e-04, 5.98032911e-03],\n",
       "        [1.27648223e-03, 6.08038478e-04, 1.37926120e-02],\n",
       "        [1.19419169e-03, 6.34963809e-04, 2.42944480e-02],\n",
       "        [9.23652449e-04, 5.48908408e-04, 4.82583360e-03],\n",
       "        [9.42894951e-04, 5.37864612e-04, 6.43703221e-03],\n",
       "        [1.03392550e-03, 5.27898039e-04, 6.90601246e-03],\n",
       "        [9.23652449e-04, 5.48908408e-04, 4.82583360e-03],\n",
       "        [9.42896796e-04, 5.31460449e-04, 5.99724445e-03],\n",
       "        [1.03030020e-03, 5.39480598e-04, 5.58857811e-03],\n",
       "        [1.15242852e-03, 5.14990776e-04, 7.96475601e-03],\n",
       "        [7.65015890e-04, 4.74443344e-04, 6.80821181e-03],\n",
       "        [1.04216732e-03, 5.17215968e-04, 6.75539588e-03],\n",
       "        [1.19651308e-03, 5.29644387e-04, 7.18096589e-03],\n",
       "        [1.22780120e-03, 5.84805155e-04, 7.37326312e-03],\n",
       "        [9.32707984e-04, 5.46017323e-04, 5.74364863e-03],\n",
       "        [1.25521308e-03, 5.41251780e-04, 8.01307785e-03],\n",
       "        [9.98652435e-04, 5.31184186e-04, 5.85426518e-03],\n",
       "        [1.16665872e-03, 5.39991098e-04, 7.32586538e-03],\n",
       "        [9.88945142e-04, 5.39560586e-04, 5.76572281e-03],\n",
       "        [1.27014517e-03, 4.81798337e-04, 3.43828801e-03],\n",
       "        [9.77215140e-04, 4.00244845e-04, 2.44533240e-03],\n",
       "        [1.04986364e-03, 3.73217235e-04, 2.52295288e-03],\n",
       "        [2.89966632e-04, 4.31503707e-04, 4.06520832e-04],\n",
       "        [6.84013462e-04, 3.67352636e-04, 8.31239069e-04],\n",
       "        [4.54607860e-04, 4.77776838e-04, 4.92891325e-04],\n",
       "        [1.01029965e-03, 3.06102811e-04, 3.53156832e-03],\n",
       "        [4.14046476e-04, 5.08786608e-04, 8.39958900e-04],\n",
       "        [8.74396955e-04, 5.17310538e-04, 1.00009729e-03],\n",
       "        [4.15219904e-04, 4.43381593e-04, 5.11478733e-04],\n",
       "        [2.57421743e-04, 4.18333989e-04, 5.81024801e-04],\n",
       "        [6.21478679e-04, 4.03354947e-04, 8.52003613e-04],\n",
       "        [2.99819504e-04, 4.95648654e-04, 4.11985828e-04],\n",
       "        [6.31110387e-04, 3.88832619e-04, 6.63863447e-04],\n",
       "        [6.29429181e-04, 6.17123770e-04, 8.47270884e-04],\n",
       "        [1.04529606e-03, 5.06994982e-04, 2.12318413e-03],\n",
       "        [5.68308666e-04, 3.19738375e-04, 7.50401329e-04],\n",
       "        [4.77585096e-04, 6.15313942e-04, 5.53614907e-04],\n",
       "        [2.78035644e-04, 3.25892150e-04, 3.45084701e-04],\n",
       "        [3.97996394e-04, 5.61109778e-04, 4.95365079e-04],\n",
       "        [7.21475276e-04, 2.00154820e-04, 2.32384844e-03],\n",
       "        [6.17301284e-04, 5.84753347e-04, 6.51529131e-04],\n",
       "        [4.08832883e-04, 3.35824987e-04, 4.16700814e-04],\n",
       "        [6.04578513e-04, 5.38873521e-04, 5.65468475e-04],\n",
       "        [8.08560883e-04, 5.60474949e-04, 8.74371262e-04],\n",
       "        [9.13890882e-04, 4.88567233e-04, 1.48122803e-03],\n",
       "        [8.32049274e-04, 4.16005042e-04, 9.90906807e-04],\n",
       "        [7.71880251e-04, 2.51633021e-04, 1.84334926e-03],\n",
       "        [5.74924235e-04, 3.61248835e-04, 6.53512807e-04],\n",
       "        [5.18518221e-04, 5.96932427e-04, 8.12749446e-04],\n",
       "        [3.67689590e-04, 5.30599686e-04, 5.25222433e-04],\n",
       "        [3.83497689e-04, 5.29805665e-04, 5.78374905e-04],\n",
       "        [4.98014178e-04, 6.23356475e-04, 5.62810583e-04],\n",
       "        [4.13473301e-04, 2.42767298e-04, 4.74424571e-04],\n",
       "        [5.71905301e-04, 3.03046643e-04, 7.81072788e-04],\n",
       "        [9.42729719e-04, 2.93299974e-04, 3.96499547e-03],\n",
       "        [9.61967889e-04, 3.89758180e-04, 2.15197864e-03],\n",
       "        [3.70333598e-04, 4.44789859e-04, 4.20293981e-04],\n",
       "        [6.34950827e-04, 5.30643308e-04, 7.10731290e-04],\n",
       "        [3.57922353e-04, 4.70964805e-04, 4.50057216e-04],\n",
       "        [3.74050771e-04, 4.95180146e-04, 4.36480821e-04],\n",
       "        [6.88905872e-04, 4.20726385e-04, 8.38227453e-04],\n",
       "        [4.36359191e-04, 5.81828036e-04, 5.08026540e-04],\n",
       "        [3.77496627e-04, 4.87777210e-04, 8.21674005e-04],\n",
       "        [4.28378382e-04, 4.95249218e-04, 4.90943440e-04],\n",
       "        [6.31157155e-04, 6.08860950e-04, 6.58082741e-04],\n",
       "        [5.41673744e-04, 5.35635866e-04, 5.82209030e-04],\n",
       "        [7.26350946e-04, 5.44751821e-04, 7.11824853e-04],\n",
       "        [5.20013929e-04, 5.47947287e-04, 1.30378691e-03],\n",
       "        [4.97467154e-04, 5.40457322e-04, 5.48517679e-04],\n",
       "        [6.88341353e-04, 4.56526401e-05, 8.34006719e-03],\n",
       "        [3.22589472e-04, 1.48070746e-04, 4.45792536e-04],\n",
       "        [7.03095766e-04, 1.04247629e-04, 3.17851913e-03],\n",
       "        [5.15595707e-04, 1.59551982e-04, 8.85394001e-04],\n",
       "        [5.33924783e-04, 8.24572482e-05, 2.23397050e-03],\n",
       "        [8.58998610e-04, 8.69039771e-05, 4.50249433e-03],\n",
       "        [2.42509221e-04, 2.34372397e-04, 3.30625193e-04],\n",
       "        [8.20540671e-04, 1.43432798e-04, 2.11186868e-03],\n",
       "        [4.42646024e-04, 1.47633691e-04, 4.76889200e-04],\n",
       "        [1.43575903e-03, 5.27088309e-05, 4.77197950e-02],\n",
       "        [8.09519860e-04, 1.47546193e-04, 4.28250950e-03],\n",
       "        [4.49041810e-04, 1.48602740e-04, 6.92445234e-04],\n",
       "        [6.26543600e-04, 1.15175955e-04, 2.59798339e-03],\n",
       "        [2.25188808e-04, 1.38306834e-04, 3.30678712e-04],\n",
       "        [3.01681226e-04, 6.74881825e-05, 9.30004231e-04],\n",
       "        [6.90942019e-04, 8.32870771e-05, 5.51786455e-03],\n",
       "        [6.30989239e-04, 1.74075203e-04, 1.45845182e-03],\n",
       "        [2.19544081e-03, 7.12741643e-05, 8.26155164e-02],\n",
       "        [5.69111269e-04, 5.33325458e-05, 1.98685982e-03],\n",
       "        [2.32836493e-04, 2.75392918e-04, 2.86972201e-04],\n",
       "        [8.01354993e-04, 7.95092771e-05, 7.28724616e-03],\n",
       "        [3.38790855e-04, 1.29719909e-04, 5.39897970e-04],\n",
       "        [8.06052503e-04, 9.48129746e-05, 2.67764729e-03],\n",
       "        [4.67067186e-04, 1.97538619e-04, 6.30956679e-04],\n",
       "        [9.34536238e-04, 1.04765258e-04, 7.23966090e-03],\n",
       "        [1.05013776e-03, 1.67018641e-04, 4.64213752e-03],\n",
       "        [4.85037813e-04, 2.06344810e-04, 7.52608796e-04],\n",
       "        [5.70382312e-04, 2.00765709e-04, 1.23302178e-03],\n",
       "        [4.24073303e-04, 1.00241773e-04, 9.89386052e-04],\n",
       "        [9.87872755e-04, 2.35539736e-04, 2.33392261e-03],\n",
       "        [7.68216428e-04, 1.31621403e-04, 2.08111605e-03],\n",
       "        [2.29591770e-03, 1.08468693e-04, 7.30526080e-02],\n",
       "        [4.01135800e-04, 8.60506821e-05, 1.07991730e-03],\n",
       "        [5.89144360e-04, 2.92183042e-04, 6.17691943e-04],\n",
       "        [4.05642068e-04, 2.71893581e-04, 4.15555873e-04],\n",
       "        [8.48277711e-04, 7.81379550e-05, 6.73576673e-03],\n",
       "        [8.50244408e-04, 6.22298104e-05, 1.16604253e-02],\n",
       "        [7.07429956e-04, 1.70565885e-04, 1.98278772e-03],\n",
       "        [5.54416139e-04, 2.04171302e-04, 1.17086284e-03],\n",
       "        [7.57653118e-04, 1.22181298e-04, 4.15294613e-03],\n",
       "        [6.24628662e-04, 6.75450488e-05, 4.98305283e-03],\n",
       "        [7.16960715e-04, 9.96317269e-05, 5.61123535e-03],\n",
       "        [3.22589472e-04, 1.48070746e-04, 4.45792536e-04],\n",
       "        [7.64359219e-04, 7.22145973e-05, 6.52668079e-03],\n",
       "        [8.05845022e-04, 5.55657510e-05, 1.17573626e-02],\n",
       "        [5.72682141e-04, 9.19801082e-05, 3.26892572e-03],\n",
       "        [3.47407224e-04, 1.69472057e-04, 4.57613484e-04],\n",
       "        [5.97099762e-04, 1.41948181e-04, 1.97058092e-03],\n",
       "        [8.63042479e-04, 7.70055727e-05, 1.00016240e-02],\n",
       "        [5.25503977e-04, 1.78581265e-04, 1.02840973e-03]])]"
      ]
     },
     "execution_count": 24,
     "metadata": {},
     "output_type": "execute_result"
    }
   ],
   "source": [
    "#forward path\n",
    "def forward(plot=False):\n",
    "    outputFlow_list = []\n",
    "    for i in range (len(hiddenLayerSizes)): \n",
    "        X = dataSetInput if i==0 else Hsaved[i-1] \n",
    "        fan_in = X.shape[1] \n",
    "        fan_out = hiddenLayerSizes[i] #selecting the size of the hidden layer \n",
    "        W = weights[i]\n",
    "\n",
    "        H = np.matmul(X, W) #matrix multplixation\n",
    "        outputFlow_list.append(H\n",
    "\n",
    "        if plot:\n",
    "            plt.plot(H, 'bo')\n",
    "            plt.grid(True)\n",
    "            plt.title(\"before activation\")\n",
    "            plt.show()\n",
    "\n",
    "        H = act[nonlinearities[i]](H)  #applying activation function \n",
    "        outputFlow_list.append(H) # saveing resluts to use it to the next loop\n",
    "\n",
    "        if plot:\n",
    "            plt.plot(H, 'bo')\n",
    "            plt.grid(True)\n",
    "            plt.title(\"after actiavation\")\n",
    "            plt.show()\n",
    "\n",
    "        \n",
    "        \n",
    "    return outpOfActivations_list\n",
    "forward()"
   ]
  },
  {
   "cell_type": "code",
   "execution_count": 16,
   "id": "096b5901",
   "metadata": {},
   "outputs": [],
   "source": [
    "# back brobagation\n",
    "def backpropagation(lr, outputOfActivations_dec):\n",
    "    derv = None # the variable that will hold the chain rule product \n",
    "    y_hat = outputOfActivations_dec[-1] # the output of our netwok\n",
    "    \n",
    "    #1- loss dervative\n",
    "    drev = crossEntropyLossDrvative(dataSetOuput, y_hat)\n",
    "    \n",
    "    #2- sigmoid\n",
    "    d = actDrevative['sigmoid'](y_hat)\n",
    "    drev = np.matmul()\n",
    "    \n",
    "    \n",
    "    \n",
    "    "
   ]
  },
  {
   "cell_type": "markdown",
   "id": "18763207",
   "metadata": {},
   "source": [
    "# Train"
   ]
  },
  {
   "cell_type": "code",
   "execution_count": 21,
   "id": "4596499a",
   "metadata": {},
   "outputs": [],
   "source": [
    "#forward\n",
    "#loss calculations\n",
    "#evaluationg score\n",
    "#backpropagation"
   ]
  },
  {
   "cell_type": "code",
   "execution_count": 19,
   "id": "f8c7136d",
   "metadata": {},
   "outputs": [
    {
     "ename": "KeyError",
     "evalue": "-1",
     "output_type": "error",
     "traceback": [
      "\u001b[0;31m---------------------------------------------------------------------------\u001b[0m",
      "\u001b[0;31mKeyError\u001b[0m                                  Traceback (most recent call last)",
      "\u001b[0;32m/tmp/ipykernel_58830/1081599623.py\u001b[0m in \u001b[0;36m<module>\u001b[0;34m\u001b[0m\n\u001b[1;32m      1\u001b[0m \u001b[0md\u001b[0m \u001b[0;34m=\u001b[0m \u001b[0;34m{\u001b[0m\u001b[0;34m'1'\u001b[0m\u001b[0;34m:\u001b[0m\u001b[0;36m3\u001b[0m\u001b[0;34m,\u001b[0m \u001b[0;34m'2'\u001b[0m\u001b[0;34m:\u001b[0m\u001b[0;36m4\u001b[0m\u001b[0;34m}\u001b[0m\u001b[0;34m\u001b[0m\u001b[0;34m\u001b[0m\u001b[0m\n\u001b[0;32m----> 2\u001b[0;31m \u001b[0md\u001b[0m\u001b[0;34m[\u001b[0m\u001b[0;34m-\u001b[0m\u001b[0;36m1\u001b[0m\u001b[0;34m]\u001b[0m\u001b[0;34m\u001b[0m\u001b[0;34m\u001b[0m\u001b[0m\n\u001b[0m",
      "\u001b[0;31mKeyError\u001b[0m: -1"
     ]
    }
   ],
   "source": [
    "d = {'1':3, '2':4}\n",
    "d[-1]"
   ]
  },
  {
   "cell_type": "code",
   "execution_count": null,
   "id": "f89c7e3f",
   "metadata": {},
   "outputs": [],
   "source": []
  }
 ],
 "metadata": {
  "kernelspec": {
   "display_name": "Python 3 (ipykernel)",
   "language": "python",
   "name": "python3"
  },
  "language_info": {
   "codemirror_mode": {
    "name": "ipython",
    "version": 3
   },
   "file_extension": ".py",
   "mimetype": "text/x-python",
   "name": "python",
   "nbconvert_exporter": "python",
   "pygments_lexer": "ipython3",
   "version": "3.9.7"
  }
 },
 "nbformat": 4,
 "nbformat_minor": 5
}
